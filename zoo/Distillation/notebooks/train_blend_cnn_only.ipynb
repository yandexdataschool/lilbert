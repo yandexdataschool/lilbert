{
 "cells": [
  {
   "cell_type": "code",
   "execution_count": 1,
   "metadata": {},
   "outputs": [],
   "source": [
    "import os\n",
    "import sys\n",
    "%load_ext autoreload\n",
    "%autoreload 2\n",
    "sys.path.append('..')\n",
    "\n",
    "import numpy as np\n",
    "import random\n",
    "import torch\n",
    "# %env CUDA_VISIBLE_DEVICES=1\n",
    "\n",
    "from lib import data_processors, utils"
   ]
  },
  {
   "cell_type": "code",
   "execution_count": 2,
   "metadata": {},
   "outputs": [
    {
     "name": "stdout",
     "output_type": "stream",
     "text": [
      "Better speed can be achieved with apex installed from https://www.github.com/nvidia/apex.\n"
     ]
    }
   ],
   "source": [
    "from lib.bert import BertForSequenceClassification\n",
    "from pytorch_pretrained_bert.tokenization import BertTokenizer\n",
    "\n",
    "from lib.train_eval import train, evaluate\n",
    "from lib.train_student import train_student \n",
    "from lib.blend_cnn import BlendCNN\n",
    "from pytorch_pretrained_bert.modeling import (BertConfig, WEIGHTS_NAME, CONFIG_NAME)\n",
    "from lib.bert import BertForSequenceClassification"
   ]
  },
  {
   "cell_type": "code",
   "execution_count": 3,
   "metadata": {},
   "outputs": [],
   "source": [
    "params = {\n",
    "    'data_dir': '../../data/SST-2',\n",
    "    'output_dir': '../output',\n",
    "    'cache_dir': '../model_cache',\n",
    "    'task_name': 'sst2',\n",
    "    'bert_model': 'bert-base-uncased',\n",
    "    'max_seq_length': 128,\n",
    "    'train_batch_size': 32,\n",
    "    'eval_batch_size': 8,\n",
    "    'learning_rate': 2e-5,\n",
    "    'warmup_proportion': 0.1,\n",
    "    'num_train_epochs': 5,\n",
    "    'seed': 1331\n",
    "}\n",
    "\n",
    "processors = {\n",
    "    'cola': data_processors.ColaProcessor,\n",
    "    'mnli': data_processors.MnliProcessor,\n",
    "    'mrpc': data_processors.MrpcProcessor,\n",
    "    'sst2': data_processors.SST2Processor\n",
    "}\n",
    "\n",
    "num_labels_task = {\n",
    "    'cola': 2,\n",
    "    'mnli': 3,\n",
    "    'mrpc': 2,\n",
    "    'sst2': 2\n",
    "}\n",
    "\n",
    "random.seed(params['seed'])\n",
    "np.random.seed(params['seed'])\n",
    "torch.manual_seed(params['seed'])\n",
    "device = torch.device('cuda' if torch.cuda.is_available() else 'cpu')\n",
    "\n"
   ]
  },
  {
   "cell_type": "code",
   "execution_count": 4,
   "metadata": {},
   "outputs": [
    {
     "name": "stderr",
     "output_type": "stream",
     "text": [
      "04/10/2019 20:19:56 - INFO - pytorch_pretrained_bert.tokenization -   loading vocabulary file https://s3.amazonaws.com/models.huggingface.co/bert/bert-base-uncased-vocab.txt from cache at /home/shakhrayv/.pytorch_pretrained_bert/26bc1ad6c0ac742e9b52263248f6d0f00068293b33709fae12320c0e35ccfbbb.542ce4285a40d23a559526243235df47c5f75c197f04f37d1a0c124c32c9a084\n"
     ]
    }
   ],
   "source": [
    "processor = processors[params['task_name']]()\n",
    "num_labels = num_labels_task[params['task_name']]\n",
    "label_list = processor.get_labels()\n",
    "\n",
    "tokenizer = BertTokenizer.from_pretrained(\n",
    "    params['bert_model'], do_lower_case=True)\n",
    "\n",
    "train_examples = processor.get_train_examples(params['data_dir'])\n",
    "eval_examples = processor.get_dev_examples(params['data_dir'])"
   ]
  },
  {
   "cell_type": "markdown",
   "metadata": {},
   "source": [
    "Инициализируем модель"
   ]
  },
  {
   "cell_type": "code",
   "execution_count": 5,
   "metadata": {},
   "outputs": [],
   "source": [
    "model = BlendCNN(params['max_seq_length'], len(tokenizer.vocab), len(label_list), n_layers=8).to(device)"
   ]
  },
  {
   "cell_type": "markdown",
   "metadata": {},
   "source": [
    "Код для обучения модели"
   ]
  },
  {
   "cell_type": "code",
   "execution_count": 10,
   "metadata": {},
   "outputs": [],
   "source": [
    "from torch.utils.data import (DataLoader, RandomSampler, SequentialSampler,\n",
    "                              TensorDataset)\n",
    "from pytorch_pretrained_bert.optimization import BertAdam\n",
    "from tqdm import tqdm, trange, tqdm_notebook\n",
    "from torch.nn import CrossEntropyLoss\n",
    "\n",
    "\n",
    "def train_blend_cnn(model, train_examples, label_list, params, tokenizer):\n",
    "    train_steps_per_epoch = int(len(train_examples) / params['train_batch_size'])\n",
    "    num_train_optimization_steps = train_steps_per_epoch * params['num_train_epochs']\n",
    "\n",
    "    param_optimizer = list(model.named_parameters())\n",
    "    no_decay = ['bias', 'LayerNorm.bias', 'LayerNorm.weight']\n",
    "    optimizer_grouped_parameters = [\n",
    "        {'params': [p for n, p in param_optimizer\n",
    "                    if not any(nd in n for nd in no_decay)],\n",
    "         'weight_decay': 0.01},\n",
    "        {'params': [p for n, p in param_optimizer\n",
    "                    if any(nd in n for nd in no_decay)],\n",
    "         'weight_decay': 0.0}\n",
    "    ]\n",
    "    optimizer = BertAdam(optimizer_grouped_parameters,\n",
    "                         lr=params['learning_rate'],\n",
    "                         warmup=params['warmup_proportion'],\n",
    "                         t_total=num_train_optimization_steps)\n",
    "\n",
    "    global_step = 0\n",
    "    nb_tr_steps = 0\n",
    "    tr_loss = 0\n",
    "    \n",
    "    train_features = utils.convert_examples_to_features(\n",
    "        train_examples, label_list, params['max_seq_length'], tokenizer)\n",
    "    \n",
    "    print(\"***** Running training *****\")\n",
    "    print(\"Num examples:\",  len(train_examples))\n",
    "    print(\"Batch size:  \", params['train_batch_size'])\n",
    "    print(\"Num steps:   \", num_train_optimization_steps)\n",
    "    all_input_ids = torch.tensor([f.input_ids for f in train_features],\n",
    "                                 dtype=torch.long)\n",
    "    all_input_mask = torch.tensor([f.input_mask for f in train_features],\n",
    "                                  dtype=torch.long)\n",
    "    all_segment_ids = torch.tensor([f.segment_ids for f in train_features],\n",
    "                                   dtype=torch.long)\n",
    "    all_label_ids = torch.tensor([f.label_id for f in train_features],\n",
    "                                 dtype=torch.long)\n",
    "    \n",
    "    \n",
    "    train_data = TensorDataset(all_input_ids, all_input_mask, all_segment_ids, all_label_ids)\n",
    "    \n",
    "    train_sampler = RandomSampler(train_data)\n",
    "    train_dataloader = DataLoader(\n",
    "        train_data, sampler=train_sampler, batch_size=params['train_batch_size'])\n",
    "\n",
    "    model.train()\n",
    "    for epoch_num in range(int(params['num_train_epochs'])):\n",
    "        print('Epoch: {}'.format(epoch_num + 1))\n",
    "        tr_loss = 0\n",
    "        nb_tr_examples, nb_tr_steps = 0, 0\n",
    "        for step, batch in enumerate(tqdm(train_dataloader, desc=\"Iteration\")):\n",
    "            batch = tuple(t.to(device) for t in batch)\n",
    "            input_ids, input_mask, segment_ids, label_ids = batch\n",
    "            \n",
    "            logits_model = model(input_ids, segment_ids, input_mask)\n",
    "            loss = CrossEntropyLoss()(logits_model.view(-1, model.num_labels), label_ids.view(-1))\n",
    "            loss.backward()\n",
    "\n",
    "            tr_loss += loss.item()\n",
    "            nb_tr_examples += input_ids.size(0)\n",
    "            nb_tr_steps += 1\n",
    "            optimizer.step()\n",
    "            optimizer.zero_grad()\n",
    "            global_step += 1\n",
    "    result = {\n",
    "        'loss': tr_loss / nb_tr_steps,\n",
    "        'global_step': global_step\n",
    "    }\n",
    "    \n",
    "    return result"
   ]
  },
  {
   "cell_type": "markdown",
   "metadata": {},
   "source": [
    "Обучаем. Самым лучшим результатом за все время обучения стало 0.62"
   ]
  },
  {
   "cell_type": "code",
   "execution_count": 7,
   "metadata": {},
   "outputs": [
    {
     "name": "stdout",
     "output_type": "stream",
     "text": [
      "______Epoch_______: 1\n"
     ]
    },
    {
     "name": "stderr",
     "output_type": "stream",
     "text": [
      "\r",
      "Iteration:   0%|          | 0/2105 [00:00<?, ?it/s]"
     ]
    },
    {
     "name": "stdout",
     "output_type": "stream",
     "text": [
      "***** Running training *****\n",
      "Num examples: 67349\n",
      "Batch size:   32\n",
      "Num steps:    2104\n",
      "Epoch: 1\n"
     ]
    },
    {
     "name": "stderr",
     "output_type": "stream",
     "text": [
      "Iteration: 100%|██████████| 2105/2105 [00:20<00:00, 102.61it/s]\n",
      "04/10/2019 20:20:34 - INFO - lib.train_eval -   ***** Running evaluation *****\n",
      "04/10/2019 20:20:34 - INFO - lib.train_eval -     Num examples = 872\n",
      "04/10/2019 20:20:34 - INFO - lib.train_eval -     Batch size = 8\n",
      "Evaluating: 100%|██████████| 109/109 [00:00<00:00, 341.77it/s]\n",
      "04/10/2019 20:20:34 - INFO - lib.train_eval -   ***** Eval results *****\n",
      "04/10/2019 20:20:34 - INFO - lib.train_eval -     eval_accuracy = 0.481651376146789\n",
      "04/10/2019 20:20:34 - INFO - lib.train_eval -     eval_loss = 0.03411867877964033\n"
     ]
    },
    {
     "name": "stdout",
     "output_type": "stream",
     "text": [
      "{'eval_loss': 0.03411867877964033, 'eval_accuracy': 0.481651376146789}\n",
      "______Epoch_______: 2\n",
      "***** Running training *****\n",
      "Num examples: 67349\n",
      "Batch size:   32\n",
      "Num steps:    2104\n",
      "Epoch: 1\n"
     ]
    },
    {
     "name": "stderr",
     "output_type": "stream",
     "text": [
      "Iteration: 100%|██████████| 2105/2105 [00:20<00:00, 102.74it/s]\n",
      "04/10/2019 20:21:02 - INFO - lib.train_eval -   ***** Running evaluation *****\n",
      "04/10/2019 20:21:02 - INFO - lib.train_eval -     Num examples = 872\n",
      "04/10/2019 20:21:02 - INFO - lib.train_eval -     Batch size = 8\n",
      "Evaluating: 100%|██████████| 109/109 [00:00<00:00, 329.55it/s]\n",
      "04/10/2019 20:21:02 - INFO - lib.train_eval -   ***** Eval results *****\n",
      "04/10/2019 20:21:02 - INFO - lib.train_eval -     eval_accuracy = 0.5137614678899083\n",
      "04/10/2019 20:21:02 - INFO - lib.train_eval -     eval_loss = 0.020101077922987282\n"
     ]
    },
    {
     "name": "stdout",
     "output_type": "stream",
     "text": [
      "{'eval_loss': 0.020101077922987282, 'eval_accuracy': 0.5137614678899083}\n",
      "______Epoch_______: 3\n"
     ]
    },
    {
     "name": "stderr",
     "output_type": "stream",
     "text": [
      "\r",
      "Iteration:   0%|          | 0/2105 [00:00<?, ?it/s]"
     ]
    },
    {
     "name": "stdout",
     "output_type": "stream",
     "text": [
      "***** Running training *****\n",
      "Num examples: 67349\n",
      "Batch size:   32\n",
      "Num steps:    2104\n",
      "Epoch: 1\n"
     ]
    },
    {
     "name": "stderr",
     "output_type": "stream",
     "text": [
      "Iteration: 100%|██████████| 2105/2105 [00:20<00:00, 102.52it/s]\n",
      "04/10/2019 20:21:30 - INFO - lib.train_eval -   ***** Running evaluation *****\n",
      "04/10/2019 20:21:30 - INFO - lib.train_eval -     Num examples = 872\n",
      "04/10/2019 20:21:30 - INFO - lib.train_eval -     Batch size = 8\n",
      "Evaluating: 100%|██████████| 109/109 [00:00<00:00, 330.60it/s]\n",
      "04/10/2019 20:21:30 - INFO - lib.train_eval -   ***** Eval results *****\n",
      "04/10/2019 20:21:30 - INFO - lib.train_eval -     eval_accuracy = 0.5355504587155964\n",
      "04/10/2019 20:21:30 - INFO - lib.train_eval -     eval_loss = 0.01657400536564512\n"
     ]
    },
    {
     "name": "stdout",
     "output_type": "stream",
     "text": [
      "{'eval_loss': 0.01657400536564512, 'eval_accuracy': 0.5355504587155964}\n",
      "______Epoch_______: 4\n"
     ]
    },
    {
     "name": "stderr",
     "output_type": "stream",
     "text": [
      "\r",
      "Iteration:   0%|          | 0/2105 [00:00<?, ?it/s]"
     ]
    },
    {
     "name": "stdout",
     "output_type": "stream",
     "text": [
      "***** Running training *****\n",
      "Num examples: 67349\n",
      "Batch size:   32\n",
      "Num steps:    2104\n",
      "Epoch: 1\n"
     ]
    },
    {
     "name": "stderr",
     "output_type": "stream",
     "text": [
      "Iteration: 100%|██████████| 2105/2105 [00:20<00:00, 101.90it/s]\n",
      "04/10/2019 20:21:58 - INFO - lib.train_eval -   ***** Running evaluation *****\n",
      "04/10/2019 20:21:58 - INFO - lib.train_eval -     Num examples = 872\n",
      "04/10/2019 20:21:58 - INFO - lib.train_eval -     Batch size = 8\n",
      "Evaluating: 100%|██████████| 109/109 [00:00<00:00, 342.39it/s]\n",
      "04/10/2019 20:21:59 - INFO - lib.train_eval -   ***** Eval results *****\n",
      "04/10/2019 20:21:59 - INFO - lib.train_eval -     eval_accuracy = 0.5378440366972477\n",
      "04/10/2019 20:21:59 - INFO - lib.train_eval -     eval_loss = 0.020276329189607308\n"
     ]
    },
    {
     "name": "stdout",
     "output_type": "stream",
     "text": [
      "{'eval_loss': 0.020276329189607308, 'eval_accuracy': 0.5378440366972477}\n",
      "______Epoch_______: 5\n"
     ]
    },
    {
     "name": "stderr",
     "output_type": "stream",
     "text": [
      "\r",
      "Iteration:   0%|          | 0/2105 [00:00<?, ?it/s]"
     ]
    },
    {
     "name": "stdout",
     "output_type": "stream",
     "text": [
      "***** Running training *****\n",
      "Num examples: 67349\n",
      "Batch size:   32\n",
      "Num steps:    2104\n",
      "Epoch: 1\n"
     ]
    },
    {
     "name": "stderr",
     "output_type": "stream",
     "text": [
      "Iteration: 100%|██████████| 2105/2105 [00:20<00:00, 101.63it/s]\n",
      "04/10/2019 20:22:27 - INFO - lib.train_eval -   ***** Running evaluation *****\n",
      "04/10/2019 20:22:27 - INFO - lib.train_eval -     Num examples = 872\n",
      "04/10/2019 20:22:27 - INFO - lib.train_eval -     Batch size = 8\n",
      "Evaluating: 100%|██████████| 109/109 [00:00<00:00, 343.71it/s]\n",
      "04/10/2019 20:22:27 - INFO - lib.train_eval -   ***** Eval results *****\n",
      "04/10/2019 20:22:27 - INFO - lib.train_eval -     eval_accuracy = 0.5561926605504587\n",
      "04/10/2019 20:22:27 - INFO - lib.train_eval -     eval_loss = 0.019073760581262613\n"
     ]
    },
    {
     "name": "stdout",
     "output_type": "stream",
     "text": [
      "{'eval_loss': 0.019073760581262613, 'eval_accuracy': 0.5561926605504587}\n",
      "______Epoch_______: 6\n"
     ]
    },
    {
     "name": "stderr",
     "output_type": "stream",
     "text": [
      "\r",
      "Iteration:   0%|          | 0/2105 [00:00<?, ?it/s]"
     ]
    },
    {
     "name": "stdout",
     "output_type": "stream",
     "text": [
      "***** Running training *****\n",
      "Num examples: 67349\n",
      "Batch size:   32\n",
      "Num steps:    2104\n",
      "Epoch: 1\n"
     ]
    },
    {
     "name": "stderr",
     "output_type": "stream",
     "text": [
      "Iteration: 100%|██████████| 2105/2105 [00:20<00:00, 101.99it/s]\n",
      "04/10/2019 20:22:55 - INFO - lib.train_eval -   ***** Running evaluation *****\n",
      "04/10/2019 20:22:55 - INFO - lib.train_eval -     Num examples = 872\n",
      "04/10/2019 20:22:55 - INFO - lib.train_eval -     Batch size = 8\n",
      "Evaluating: 100%|██████████| 109/109 [00:00<00:00, 344.10it/s]\n",
      "04/10/2019 20:22:55 - INFO - lib.train_eval -   ***** Eval results *****\n",
      "04/10/2019 20:22:55 - INFO - lib.train_eval -     eval_accuracy = 0.5825688073394495\n",
      "04/10/2019 20:22:55 - INFO - lib.train_eval -     eval_loss = 0.021291231198253435\n"
     ]
    },
    {
     "name": "stdout",
     "output_type": "stream",
     "text": [
      "{'eval_loss': 0.021291231198253435, 'eval_accuracy': 0.5825688073394495}\n",
      "______Epoch_______: 7\n"
     ]
    },
    {
     "name": "stderr",
     "output_type": "stream",
     "text": [
      "\r",
      "Iteration:   0%|          | 0/2105 [00:00<?, ?it/s]"
     ]
    },
    {
     "name": "stdout",
     "output_type": "stream",
     "text": [
      "***** Running training *****\n",
      "Num examples: 67349\n",
      "Batch size:   32\n",
      "Num steps:    2104\n",
      "Epoch: 1\n"
     ]
    },
    {
     "name": "stderr",
     "output_type": "stream",
     "text": [
      "Iteration: 100%|██████████| 2105/2105 [00:20<00:00, 102.22it/s]\n",
      "04/10/2019 20:23:23 - INFO - lib.train_eval -   ***** Running evaluation *****\n",
      "04/10/2019 20:23:23 - INFO - lib.train_eval -     Num examples = 872\n",
      "04/10/2019 20:23:23 - INFO - lib.train_eval -     Batch size = 8\n",
      "Evaluating: 100%|██████████| 109/109 [00:00<00:00, 342.14it/s]\n",
      "04/10/2019 20:23:24 - INFO - lib.train_eval -   ***** Eval results *****\n",
      "04/10/2019 20:23:24 - INFO - lib.train_eval -     eval_accuracy = 0.5905963302752294\n",
      "04/10/2019 20:23:24 - INFO - lib.train_eval -     eval_loss = 0.03012557635340122\n"
     ]
    },
    {
     "name": "stdout",
     "output_type": "stream",
     "text": [
      "{'eval_loss': 0.03012557635340122, 'eval_accuracy': 0.5905963302752294}\n",
      "______Epoch_______: 8\n"
     ]
    },
    {
     "name": "stderr",
     "output_type": "stream",
     "text": [
      "\r",
      "Iteration:   0%|          | 0/2105 [00:00<?, ?it/s]"
     ]
    },
    {
     "name": "stdout",
     "output_type": "stream",
     "text": [
      "***** Running training *****\n",
      "Num examples: 67349\n",
      "Batch size:   32\n",
      "Num steps:    2104\n",
      "Epoch: 1\n"
     ]
    },
    {
     "name": "stderr",
     "output_type": "stream",
     "text": [
      "Iteration: 100%|██████████| 2105/2105 [00:20<00:00, 102.13it/s]\n",
      "04/10/2019 20:23:52 - INFO - lib.train_eval -   ***** Running evaluation *****\n",
      "04/10/2019 20:23:52 - INFO - lib.train_eval -     Num examples = 872\n",
      "04/10/2019 20:23:52 - INFO - lib.train_eval -     Batch size = 8\n",
      "Evaluating: 100%|██████████| 109/109 [00:00<00:00, 346.29it/s]\n",
      "04/10/2019 20:23:52 - INFO - lib.train_eval -   ***** Eval results *****\n",
      "04/10/2019 20:23:52 - INFO - lib.train_eval -     eval_accuracy = 0.5860091743119266\n",
      "04/10/2019 20:23:52 - INFO - lib.train_eval -     eval_loss = 0.035076413337790636\n"
     ]
    },
    {
     "name": "stdout",
     "output_type": "stream",
     "text": [
      "{'eval_loss': 0.035076413337790636, 'eval_accuracy': 0.5860091743119266}\n",
      "______Epoch_______: 9\n"
     ]
    },
    {
     "name": "stderr",
     "output_type": "stream",
     "text": [
      "\r",
      "Iteration:   0%|          | 0/2105 [00:00<?, ?it/s]"
     ]
    },
    {
     "name": "stdout",
     "output_type": "stream",
     "text": [
      "***** Running training *****\n",
      "Num examples: 67349\n",
      "Batch size:   32\n",
      "Num steps:    2104\n",
      "Epoch: 1\n"
     ]
    },
    {
     "name": "stderr",
     "output_type": "stream",
     "text": [
      "Iteration: 100%|██████████| 2105/2105 [00:20<00:00, 102.16it/s]\n",
      "04/10/2019 20:24:20 - INFO - lib.train_eval -   ***** Running evaluation *****\n",
      "04/10/2019 20:24:20 - INFO - lib.train_eval -     Num examples = 872\n",
      "04/10/2019 20:24:20 - INFO - lib.train_eval -     Batch size = 8\n",
      "Evaluating: 100%|██████████| 109/109 [00:00<00:00, 341.14it/s]\n",
      "04/10/2019 20:24:20 - INFO - lib.train_eval -   ***** Eval results *****\n",
      "04/10/2019 20:24:20 - INFO - lib.train_eval -     eval_accuracy = 0.5848623853211009\n",
      "04/10/2019 20:24:20 - INFO - lib.train_eval -     eval_loss = 0.0319723074042469\n"
     ]
    },
    {
     "name": "stdout",
     "output_type": "stream",
     "text": [
      "{'eval_loss': 0.0319723074042469, 'eval_accuracy': 0.5848623853211009}\n",
      "______Epoch_______: 10\n"
     ]
    },
    {
     "name": "stderr",
     "output_type": "stream",
     "text": [
      "\r",
      "Iteration:   0%|          | 0/2105 [00:00<?, ?it/s]"
     ]
    },
    {
     "name": "stdout",
     "output_type": "stream",
     "text": [
      "***** Running training *****\n",
      "Num examples: 67349\n",
      "Batch size:   32\n",
      "Num steps:    2104\n",
      "Epoch: 1\n"
     ]
    },
    {
     "name": "stderr",
     "output_type": "stream",
     "text": [
      "Iteration: 100%|██████████| 2105/2105 [00:20<00:00, 101.44it/s]\n",
      "04/10/2019 20:24:48 - INFO - lib.train_eval -   ***** Running evaluation *****\n",
      "04/10/2019 20:24:48 - INFO - lib.train_eval -     Num examples = 872\n",
      "04/10/2019 20:24:48 - INFO - lib.train_eval -     Batch size = 8\n",
      "Evaluating: 100%|██████████| 109/109 [00:00<00:00, 341.67it/s]\n",
      "04/10/2019 20:24:49 - INFO - lib.train_eval -   ***** Eval results *****\n",
      "04/10/2019 20:24:49 - INFO - lib.train_eval -     eval_accuracy = 0.5814220183486238\n",
      "04/10/2019 20:24:49 - INFO - lib.train_eval -     eval_loss = 0.03404129505020763\n"
     ]
    },
    {
     "name": "stdout",
     "output_type": "stream",
     "text": [
      "{'eval_loss': 0.03404129505020763, 'eval_accuracy': 0.5814220183486238}\n",
      "______Epoch_______: 11\n"
     ]
    },
    {
     "name": "stderr",
     "output_type": "stream",
     "text": [
      "\r",
      "Iteration:   0%|          | 0/2105 [00:00<?, ?it/s]"
     ]
    },
    {
     "name": "stdout",
     "output_type": "stream",
     "text": [
      "***** Running training *****\n",
      "Num examples: 67349\n",
      "Batch size:   32\n",
      "Num steps:    2104\n",
      "Epoch: 1\n"
     ]
    },
    {
     "name": "stderr",
     "output_type": "stream",
     "text": [
      "Iteration: 100%|██████████| 2105/2105 [00:20<00:00, 101.37it/s]\n",
      "04/10/2019 20:25:17 - INFO - lib.train_eval -   ***** Running evaluation *****\n",
      "04/10/2019 20:25:17 - INFO - lib.train_eval -     Num examples = 872\n",
      "04/10/2019 20:25:17 - INFO - lib.train_eval -     Batch size = 8\n",
      "Evaluating: 100%|██████████| 109/109 [00:00<00:00, 344.50it/s]\n",
      "04/10/2019 20:25:17 - INFO - lib.train_eval -   ***** Eval results *****\n",
      "04/10/2019 20:25:17 - INFO - lib.train_eval -     eval_accuracy = 0.5848623853211009\n",
      "04/10/2019 20:25:17 - INFO - lib.train_eval -     eval_loss = 0.0333084181600481\n"
     ]
    },
    {
     "name": "stdout",
     "output_type": "stream",
     "text": [
      "{'eval_loss': 0.0333084181600481, 'eval_accuracy': 0.5848623853211009}\n",
      "______Epoch_______: 12\n"
     ]
    },
    {
     "name": "stderr",
     "output_type": "stream",
     "text": [
      "\r",
      "Iteration:   0%|          | 0/2105 [00:00<?, ?it/s]"
     ]
    },
    {
     "name": "stdout",
     "output_type": "stream",
     "text": [
      "***** Running training *****\n",
      "Num examples: 67349\n",
      "Batch size:   32\n",
      "Num steps:    2104\n",
      "Epoch: 1\n"
     ]
    },
    {
     "name": "stderr",
     "output_type": "stream",
     "text": [
      "Iteration: 100%|██████████| 2105/2105 [00:20<00:00, 101.61it/s]\n",
      "04/10/2019 20:25:45 - INFO - lib.train_eval -   ***** Running evaluation *****\n",
      "04/10/2019 20:25:45 - INFO - lib.train_eval -     Num examples = 872\n",
      "04/10/2019 20:25:45 - INFO - lib.train_eval -     Batch size = 8\n",
      "Evaluating: 100%|██████████| 109/109 [00:00<00:00, 343.68it/s]\n",
      "04/10/2019 20:25:45 - INFO - lib.train_eval -   ***** Eval results *****\n",
      "04/10/2019 20:25:45 - INFO - lib.train_eval -     eval_accuracy = 0.5848623853211009\n",
      "04/10/2019 20:25:45 - INFO - lib.train_eval -     eval_loss = 0.02758426192737774\n"
     ]
    },
    {
     "name": "stdout",
     "output_type": "stream",
     "text": [
      "{'eval_loss': 0.02758426192737774, 'eval_accuracy': 0.5848623853211009}\n",
      "______Epoch_______: 13\n"
     ]
    },
    {
     "name": "stderr",
     "output_type": "stream",
     "text": [
      "\r",
      "Iteration:   0%|          | 0/2105 [00:00<?, ?it/s]"
     ]
    },
    {
     "name": "stdout",
     "output_type": "stream",
     "text": [
      "***** Running training *****\n",
      "Num examples: 67349\n",
      "Batch size:   32\n",
      "Num steps:    2104\n",
      "Epoch: 1\n"
     ]
    },
    {
     "name": "stderr",
     "output_type": "stream",
     "text": [
      "Iteration: 100%|██████████| 2105/2105 [00:20<00:00, 102.17it/s]\n",
      "04/10/2019 20:26:13 - INFO - lib.train_eval -   ***** Running evaluation *****\n",
      "04/10/2019 20:26:13 - INFO - lib.train_eval -     Num examples = 872\n",
      "04/10/2019 20:26:13 - INFO - lib.train_eval -     Batch size = 8\n",
      "Evaluating: 100%|██████████| 109/109 [00:00<00:00, 344.41it/s]\n",
      "04/10/2019 20:26:14 - INFO - lib.train_eval -   ***** Eval results *****\n",
      "04/10/2019 20:26:14 - INFO - lib.train_eval -     eval_accuracy = 0.6009174311926605\n",
      "04/10/2019 20:26:14 - INFO - lib.train_eval -     eval_loss = 0.034055961654820575\n"
     ]
    },
    {
     "name": "stdout",
     "output_type": "stream",
     "text": [
      "{'eval_loss': 0.034055961654820575, 'eval_accuracy': 0.6009174311926605}\n",
      "______Epoch_______: 14\n"
     ]
    },
    {
     "name": "stderr",
     "output_type": "stream",
     "text": [
      "Iteration:   0%|          | 10/2105 [00:00<00:22, 92.12it/s]"
     ]
    },
    {
     "name": "stdout",
     "output_type": "stream",
     "text": [
      "***** Running training *****\n",
      "Num examples: 67349\n",
      "Batch size:   32\n",
      "Num steps:    2104\n",
      "Epoch: 1\n"
     ]
    },
    {
     "name": "stderr",
     "output_type": "stream",
     "text": [
      "Iteration: 100%|██████████| 2105/2105 [00:20<00:00, 102.25it/s]\n",
      "04/10/2019 20:26:42 - INFO - lib.train_eval -   ***** Running evaluation *****\n",
      "04/10/2019 20:26:42 - INFO - lib.train_eval -     Num examples = 872\n",
      "04/10/2019 20:26:42 - INFO - lib.train_eval -     Batch size = 8\n",
      "Evaluating: 100%|██████████| 109/109 [00:00<00:00, 343.53it/s]\n",
      "04/10/2019 20:26:42 - INFO - lib.train_eval -   ***** Eval results *****\n",
      "04/10/2019 20:26:42 - INFO - lib.train_eval -     eval_accuracy = 0.6043577981651376\n",
      "04/10/2019 20:26:42 - INFO - lib.train_eval -     eval_loss = 0.038444675385541874\n"
     ]
    },
    {
     "name": "stdout",
     "output_type": "stream",
     "text": [
      "{'eval_loss': 0.038444675385541874, 'eval_accuracy': 0.6043577981651376}\n",
      "______Epoch_______: 15\n"
     ]
    },
    {
     "name": "stderr",
     "output_type": "stream",
     "text": [
      "\r",
      "Iteration:   0%|          | 0/2105 [00:00<?, ?it/s]"
     ]
    },
    {
     "name": "stdout",
     "output_type": "stream",
     "text": [
      "***** Running training *****\n",
      "Num examples: 67349\n",
      "Batch size:   32\n",
      "Num steps:    2104\n",
      "Epoch: 1\n"
     ]
    },
    {
     "name": "stderr",
     "output_type": "stream",
     "text": [
      "Iteration: 100%|██████████| 2105/2105 [00:20<00:00, 101.70it/s]\n",
      "04/10/2019 20:27:10 - INFO - lib.train_eval -   ***** Running evaluation *****\n",
      "04/10/2019 20:27:10 - INFO - lib.train_eval -     Num examples = 872\n",
      "04/10/2019 20:27:10 - INFO - lib.train_eval -     Batch size = 8\n",
      "Evaluating: 100%|██████████| 109/109 [00:00<00:00, 345.99it/s]\n",
      "04/10/2019 20:27:10 - INFO - lib.train_eval -   ***** Eval results *****\n",
      "04/10/2019 20:27:10 - INFO - lib.train_eval -     eval_accuracy = 0.606651376146789\n",
      "04/10/2019 20:27:10 - INFO - lib.train_eval -     eval_loss = 0.03645910526019171\n"
     ]
    },
    {
     "name": "stdout",
     "output_type": "stream",
     "text": [
      "{'eval_loss': 0.03645910526019171, 'eval_accuracy': 0.606651376146789}\n",
      "______Epoch_______: 16\n"
     ]
    },
    {
     "name": "stderr",
     "output_type": "stream",
     "text": [
      "\r",
      "Iteration:   0%|          | 0/2105 [00:00<?, ?it/s]"
     ]
    },
    {
     "name": "stdout",
     "output_type": "stream",
     "text": [
      "***** Running training *****\n",
      "Num examples: 67349\n",
      "Batch size:   32\n",
      "Num steps:    2104\n",
      "Epoch: 1\n"
     ]
    },
    {
     "name": "stderr",
     "output_type": "stream",
     "text": [
      "Iteration: 100%|██████████| 2105/2105 [00:20<00:00, 101.83it/s]\n",
      "04/10/2019 20:27:38 - INFO - lib.train_eval -   ***** Running evaluation *****\n",
      "04/10/2019 20:27:38 - INFO - lib.train_eval -     Num examples = 872\n",
      "04/10/2019 20:27:38 - INFO - lib.train_eval -     Batch size = 8\n",
      "Evaluating: 100%|██████████| 109/109 [00:00<00:00, 344.96it/s]\n",
      "04/10/2019 20:27:39 - INFO - lib.train_eval -   ***** Eval results *****\n",
      "04/10/2019 20:27:39 - INFO - lib.train_eval -     eval_accuracy = 0.6158256880733946\n",
      "04/10/2019 20:27:39 - INFO - lib.train_eval -     eval_loss = 0.03689067817609244\n"
     ]
    },
    {
     "name": "stdout",
     "output_type": "stream",
     "text": [
      "{'eval_loss': 0.03689067817609244, 'eval_accuracy': 0.6158256880733946}\n",
      "______Epoch_______: 17\n"
     ]
    },
    {
     "name": "stderr",
     "output_type": "stream",
     "text": [
      "Iteration:   0%|          | 10/2105 [00:00<00:22, 92.10it/s]"
     ]
    },
    {
     "name": "stdout",
     "output_type": "stream",
     "text": [
      "***** Running training *****\n",
      "Num examples: 67349\n",
      "Batch size:   32\n",
      "Num steps:    2104\n",
      "Epoch: 1\n"
     ]
    },
    {
     "name": "stderr",
     "output_type": "stream",
     "text": [
      "Iteration: 100%|██████████| 2105/2105 [00:20<00:00, 101.42it/s]\n",
      "04/10/2019 20:28:07 - INFO - lib.train_eval -   ***** Running evaluation *****\n",
      "04/10/2019 20:28:07 - INFO - lib.train_eval -     Num examples = 872\n",
      "04/10/2019 20:28:07 - INFO - lib.train_eval -     Batch size = 8\n",
      "Evaluating: 100%|██████████| 109/109 [00:00<00:00, 342.45it/s]\n",
      "04/10/2019 20:28:07 - INFO - lib.train_eval -   ***** Eval results *****\n",
      "04/10/2019 20:28:07 - INFO - lib.train_eval -     eval_accuracy = 0.6123853211009175\n",
      "04/10/2019 20:28:07 - INFO - lib.train_eval -     eval_loss = 0.04466714805692708\n"
     ]
    },
    {
     "name": "stdout",
     "output_type": "stream",
     "text": [
      "{'eval_loss': 0.04466714805692708, 'eval_accuracy': 0.6123853211009175}\n",
      "______Epoch_______: 18\n"
     ]
    },
    {
     "name": "stderr",
     "output_type": "stream",
     "text": [
      "\r",
      "Iteration:   0%|          | 0/2105 [00:00<?, ?it/s]"
     ]
    },
    {
     "name": "stdout",
     "output_type": "stream",
     "text": [
      "***** Running training *****\n",
      "Num examples: 67349\n",
      "Batch size:   32\n",
      "Num steps:    2104\n",
      "Epoch: 1\n"
     ]
    },
    {
     "name": "stderr",
     "output_type": "stream",
     "text": [
      "Iteration: 100%|██████████| 2105/2105 [00:20<00:00, 101.78it/s]\n",
      "04/10/2019 20:28:35 - INFO - lib.train_eval -   ***** Running evaluation *****\n",
      "04/10/2019 20:28:35 - INFO - lib.train_eval -     Num examples = 872\n",
      "04/10/2019 20:28:35 - INFO - lib.train_eval -     Batch size = 8\n",
      "Evaluating: 100%|██████████| 109/109 [00:00<00:00, 331.53it/s]\n",
      "04/10/2019 20:28:35 - INFO - lib.train_eval -   ***** Eval results *****\n",
      "04/10/2019 20:28:35 - INFO - lib.train_eval -     eval_accuracy = 0.6123853211009175\n",
      "04/10/2019 20:28:35 - INFO - lib.train_eval -     eval_loss = 0.04178968468390473\n"
     ]
    },
    {
     "name": "stdout",
     "output_type": "stream",
     "text": [
      "{'eval_loss': 0.04178968468390473, 'eval_accuracy': 0.6123853211009175}\n",
      "______Epoch_______: 19\n"
     ]
    },
    {
     "name": "stderr",
     "output_type": "stream",
     "text": [
      "\r",
      "Iteration:   0%|          | 0/2105 [00:00<?, ?it/s]"
     ]
    },
    {
     "name": "stdout",
     "output_type": "stream",
     "text": [
      "***** Running training *****\n",
      "Num examples: 67349\n",
      "Batch size:   32\n",
      "Num steps:    2104\n",
      "Epoch: 1\n"
     ]
    },
    {
     "name": "stderr",
     "output_type": "stream",
     "text": [
      "Iteration: 100%|██████████| 2105/2105 [00:20<00:00, 100.82it/s]\n",
      "04/10/2019 20:29:04 - INFO - lib.train_eval -   ***** Running evaluation *****\n",
      "04/10/2019 20:29:04 - INFO - lib.train_eval -     Num examples = 872\n",
      "04/10/2019 20:29:04 - INFO - lib.train_eval -     Batch size = 8\n",
      "Evaluating: 100%|██████████| 109/109 [00:00<00:00, 342.47it/s]\n",
      "04/10/2019 20:29:04 - INFO - lib.train_eval -   ***** Eval results *****\n",
      "04/10/2019 20:29:04 - INFO - lib.train_eval -     eval_accuracy = 0.6181192660550459\n",
      "04/10/2019 20:29:04 - INFO - lib.train_eval -     eval_loss = 0.041032327680822905\n"
     ]
    },
    {
     "name": "stdout",
     "output_type": "stream",
     "text": [
      "{'eval_loss': 0.041032327680822905, 'eval_accuracy': 0.6181192660550459}\n",
      "______Epoch_______: 20\n"
     ]
    },
    {
     "name": "stderr",
     "output_type": "stream",
     "text": [
      "Iteration:   0%|          | 9/2105 [00:00<00:23, 89.75it/s]"
     ]
    },
    {
     "name": "stdout",
     "output_type": "stream",
     "text": [
      "***** Running training *****\n",
      "Num examples: 67349\n",
      "Batch size:   32\n",
      "Num steps:    2104\n",
      "Epoch: 1\n"
     ]
    },
    {
     "name": "stderr",
     "output_type": "stream",
     "text": [
      "Iteration: 100%|██████████| 2105/2105 [00:20<00:00, 101.08it/s]\n",
      "04/10/2019 20:29:32 - INFO - lib.train_eval -   ***** Running evaluation *****\n",
      "04/10/2019 20:29:32 - INFO - lib.train_eval -     Num examples = 872\n",
      "04/10/2019 20:29:32 - INFO - lib.train_eval -     Batch size = 8\n",
      "Evaluating: 100%|██████████| 109/109 [00:00<00:00, 343.14it/s]\n",
      "04/10/2019 20:29:32 - INFO - lib.train_eval -   ***** Eval results *****\n",
      "04/10/2019 20:29:32 - INFO - lib.train_eval -     eval_accuracy = 0.6158256880733946\n",
      "04/10/2019 20:29:32 - INFO - lib.train_eval -     eval_loss = 0.038944251860978954\n"
     ]
    },
    {
     "name": "stdout",
     "output_type": "stream",
     "text": [
      "{'eval_loss': 0.038944251860978954, 'eval_accuracy': 0.6158256880733946}\n"
     ]
    }
   ],
   "source": [
    "params['num_train_epochs'] = 1\n",
    "for i in range(20):\n",
    "    print('______Epoch_______: {}'.format(i + 1))\n",
    "    result = train_blend_cnn(model, train_examples, label_list, params, tokenizer)\n",
    "    result = evaluate(model, eval_examples, label_list, params, tokenizer)\n",
    "    print(result)\n",
    "    "
   ]
  },
  {
   "cell_type": "code",
   "execution_count": 8,
   "metadata": {},
   "outputs": [
    {
     "name": "stdout",
     "output_type": "stream",
     "text": [
      "______Epoch_______: 21\n"
     ]
    },
    {
     "name": "stderr",
     "output_type": "stream",
     "text": [
      "\r",
      "Iteration:   0%|          | 0/2105 [00:00<?, ?it/s]"
     ]
    },
    {
     "name": "stdout",
     "output_type": "stream",
     "text": [
      "***** Running training *****\n",
      "Num examples: 67349\n",
      "Batch size:   32\n",
      "Num steps:    2104\n",
      "Epoch: 1\n"
     ]
    },
    {
     "name": "stderr",
     "output_type": "stream",
     "text": [
      "Iteration: 100%|██████████| 2105/2105 [00:20<00:00, 101.82it/s]\n",
      "04/10/2019 20:54:59 - INFO - lib.train_eval -   ***** Running evaluation *****\n",
      "04/10/2019 20:54:59 - INFO - lib.train_eval -     Num examples = 872\n",
      "04/10/2019 20:54:59 - INFO - lib.train_eval -     Batch size = 8\n",
      "Evaluating: 100%|██████████| 109/109 [00:00<00:00, 333.18it/s]\n",
      "04/10/2019 20:54:59 - INFO - lib.train_eval -   ***** Eval results *****\n",
      "04/10/2019 20:54:59 - INFO - lib.train_eval -     eval_accuracy = 0.6204128440366973\n",
      "04/10/2019 20:54:59 - INFO - lib.train_eval -     eval_loss = 0.04366837294960241\n"
     ]
    },
    {
     "name": "stdout",
     "output_type": "stream",
     "text": [
      "{'eval_loss': 0.04366837294960241, 'eval_accuracy': 0.6204128440366973}\n",
      "______Epoch_______: 22\n"
     ]
    },
    {
     "name": "stderr",
     "output_type": "stream",
     "text": [
      "\r",
      "Iteration:   0%|          | 0/2105 [00:00<?, ?it/s]"
     ]
    },
    {
     "name": "stdout",
     "output_type": "stream",
     "text": [
      "***** Running training *****\n",
      "Num examples: 67349\n",
      "Batch size:   32\n",
      "Num steps:    2104\n",
      "Epoch: 1\n"
     ]
    },
    {
     "name": "stderr",
     "output_type": "stream",
     "text": [
      "Iteration: 100%|██████████| 2105/2105 [00:20<00:00, 101.60it/s]\n",
      "04/10/2019 20:55:28 - INFO - lib.train_eval -   ***** Running evaluation *****\n",
      "04/10/2019 20:55:28 - INFO - lib.train_eval -     Num examples = 872\n",
      "04/10/2019 20:55:28 - INFO - lib.train_eval -     Batch size = 8\n",
      "Evaluating: 100%|██████████| 109/109 [00:00<00:00, 341.42it/s]\n",
      "04/10/2019 20:55:28 - INFO - lib.train_eval -   ***** Eval results *****\n",
      "04/10/2019 20:55:28 - INFO - lib.train_eval -     eval_accuracy = 0.6204128440366973\n",
      "04/10/2019 20:55:28 - INFO - lib.train_eval -     eval_loss = 0.05148072253673448\n"
     ]
    },
    {
     "name": "stdout",
     "output_type": "stream",
     "text": [
      "{'eval_loss': 0.05148072253673448, 'eval_accuracy': 0.6204128440366973}\n",
      "______Epoch_______: 23\n"
     ]
    },
    {
     "name": "stderr",
     "output_type": "stream",
     "text": [
      "\r",
      "Iteration:   0%|          | 0/2105 [00:00<?, ?it/s]"
     ]
    },
    {
     "name": "stdout",
     "output_type": "stream",
     "text": [
      "***** Running training *****\n",
      "Num examples: 67349\n",
      "Batch size:   32\n",
      "Num steps:    2104\n",
      "Epoch: 1\n"
     ]
    },
    {
     "name": "stderr",
     "output_type": "stream",
     "text": [
      "Iteration: 100%|██████████| 2105/2105 [00:20<00:00, 100.62it/s]\n",
      "04/10/2019 20:55:56 - INFO - lib.train_eval -   ***** Running evaluation *****\n",
      "04/10/2019 20:55:56 - INFO - lib.train_eval -     Num examples = 872\n",
      "04/10/2019 20:55:56 - INFO - lib.train_eval -     Batch size = 8\n",
      "Evaluating: 100%|██████████| 109/109 [00:00<00:00, 330.88it/s]\n",
      "04/10/2019 20:55:57 - INFO - lib.train_eval -   ***** Eval results *****\n",
      "04/10/2019 20:55:57 - INFO - lib.train_eval -     eval_accuracy = 0.625\n",
      "04/10/2019 20:55:57 - INFO - lib.train_eval -     eval_loss = 0.04694756781767814\n"
     ]
    },
    {
     "name": "stdout",
     "output_type": "stream",
     "text": [
      "{'eval_loss': 0.04694756781767814, 'eval_accuracy': 0.625}\n",
      "______Epoch_______: 24\n"
     ]
    },
    {
     "name": "stderr",
     "output_type": "stream",
     "text": [
      "\r",
      "Iteration:   0%|          | 0/2105 [00:00<?, ?it/s]"
     ]
    },
    {
     "name": "stdout",
     "output_type": "stream",
     "text": [
      "***** Running training *****\n",
      "Num examples: 67349\n",
      "Batch size:   32\n",
      "Num steps:    2104\n",
      "Epoch: 1\n"
     ]
    },
    {
     "name": "stderr",
     "output_type": "stream",
     "text": [
      "Iteration: 100%|██████████| 2105/2105 [00:20<00:00, 100.61it/s]\n",
      "04/10/2019 20:56:25 - INFO - lib.train_eval -   ***** Running evaluation *****\n",
      "04/10/2019 20:56:25 - INFO - lib.train_eval -     Num examples = 872\n",
      "04/10/2019 20:56:25 - INFO - lib.train_eval -     Batch size = 8\n",
      "Evaluating: 100%|██████████| 109/109 [00:00<00:00, 329.55it/s]\n",
      "04/10/2019 20:56:25 - INFO - lib.train_eval -   ***** Eval results *****\n",
      "04/10/2019 20:56:25 - INFO - lib.train_eval -     eval_accuracy = 0.6181192660550459\n",
      "04/10/2019 20:56:25 - INFO - lib.train_eval -     eval_loss = 0.057848502822015264\n"
     ]
    },
    {
     "name": "stdout",
     "output_type": "stream",
     "text": [
      "{'eval_loss': 0.057848502822015264, 'eval_accuracy': 0.6181192660550459}\n",
      "______Epoch_______: 25\n"
     ]
    },
    {
     "name": "stderr",
     "output_type": "stream",
     "text": [
      "\r",
      "Iteration:   0%|          | 0/2105 [00:00<?, ?it/s]"
     ]
    },
    {
     "name": "stdout",
     "output_type": "stream",
     "text": [
      "***** Running training *****\n",
      "Num examples: 67349\n",
      "Batch size:   32\n",
      "Num steps:    2104\n",
      "Epoch: 1\n"
     ]
    },
    {
     "name": "stderr",
     "output_type": "stream",
     "text": [
      "Iteration: 100%|██████████| 2105/2105 [00:20<00:00, 100.70it/s]\n",
      "04/10/2019 20:56:53 - INFO - lib.train_eval -   ***** Running evaluation *****\n",
      "04/10/2019 20:56:53 - INFO - lib.train_eval -     Num examples = 872\n",
      "04/10/2019 20:56:53 - INFO - lib.train_eval -     Batch size = 8\n",
      "Evaluating: 100%|██████████| 109/109 [00:00<00:00, 341.87it/s]\n",
      "04/10/2019 20:56:54 - INFO - lib.train_eval -   ***** Eval results *****\n",
      "04/10/2019 20:56:54 - INFO - lib.train_eval -     eval_accuracy = 0.6043577981651376\n",
      "04/10/2019 20:56:54 - INFO - lib.train_eval -     eval_loss = 0.057290391107901524\n"
     ]
    },
    {
     "name": "stdout",
     "output_type": "stream",
     "text": [
      "{'eval_loss': 0.057290391107901524, 'eval_accuracy': 0.6043577981651376}\n",
      "______Epoch_______: 26\n"
     ]
    },
    {
     "name": "stderr",
     "output_type": "stream",
     "text": [
      "\r",
      "Iteration:   0%|          | 0/2105 [00:00<?, ?it/s]"
     ]
    },
    {
     "name": "stdout",
     "output_type": "stream",
     "text": [
      "***** Running training *****\n",
      "Num examples: 67349\n",
      "Batch size:   32\n",
      "Num steps:    2104\n",
      "Epoch: 1\n"
     ]
    },
    {
     "name": "stderr",
     "output_type": "stream",
     "text": [
      "Iteration: 100%|██████████| 2105/2105 [00:20<00:00, 100.27it/s]\n",
      "04/10/2019 20:57:22 - INFO - lib.train_eval -   ***** Running evaluation *****\n",
      "04/10/2019 20:57:22 - INFO - lib.train_eval -     Num examples = 872\n",
      "04/10/2019 20:57:22 - INFO - lib.train_eval -     Batch size = 8\n",
      "Evaluating: 100%|██████████| 109/109 [00:00<00:00, 328.19it/s]\n",
      "04/10/2019 20:57:22 - INFO - lib.train_eval -   ***** Eval results *****\n",
      "04/10/2019 20:57:22 - INFO - lib.train_eval -     eval_accuracy = 0.6158256880733946\n",
      "04/10/2019 20:57:22 - INFO - lib.train_eval -     eval_loss = 0.05600469162978164\n"
     ]
    },
    {
     "name": "stdout",
     "output_type": "stream",
     "text": [
      "{'eval_loss': 0.05600469162978164, 'eval_accuracy': 0.6158256880733946}\n",
      "______Epoch_______: 27\n"
     ]
    },
    {
     "name": "stderr",
     "output_type": "stream",
     "text": [
      "\r",
      "Iteration:   0%|          | 0/2105 [00:00<?, ?it/s]"
     ]
    },
    {
     "name": "stdout",
     "output_type": "stream",
     "text": [
      "***** Running training *****\n",
      "Num examples: 67349\n",
      "Batch size:   32\n",
      "Num steps:    2104\n",
      "Epoch: 1\n"
     ]
    },
    {
     "name": "stderr",
     "output_type": "stream",
     "text": [
      "Iteration: 100%|██████████| 2105/2105 [00:20<00:00, 100.54it/s]\n",
      "04/10/2019 20:57:51 - INFO - lib.train_eval -   ***** Running evaluation *****\n",
      "04/10/2019 20:57:51 - INFO - lib.train_eval -     Num examples = 872\n",
      "04/10/2019 20:57:51 - INFO - lib.train_eval -     Batch size = 8\n",
      "Evaluating: 100%|██████████| 109/109 [00:00<00:00, 328.14it/s]\n",
      "04/10/2019 20:57:51 - INFO - lib.train_eval -   ***** Eval results *****\n",
      "04/10/2019 20:57:51 - INFO - lib.train_eval -     eval_accuracy = 0.6055045871559633\n",
      "04/10/2019 20:57:51 - INFO - lib.train_eval -     eval_loss = 0.05908332230232724\n"
     ]
    },
    {
     "name": "stdout",
     "output_type": "stream",
     "text": [
      "{'eval_loss': 0.05908332230232724, 'eval_accuracy': 0.6055045871559633}\n",
      "______Epoch_______: 28\n"
     ]
    },
    {
     "name": "stderr",
     "output_type": "stream",
     "text": [
      "\r",
      "Iteration:   0%|          | 0/2105 [00:00<?, ?it/s]"
     ]
    },
    {
     "name": "stdout",
     "output_type": "stream",
     "text": [
      "***** Running training *****\n",
      "Num examples: 67349\n",
      "Batch size:   32\n",
      "Num steps:    2104\n",
      "Epoch: 1\n"
     ]
    },
    {
     "name": "stderr",
     "output_type": "stream",
     "text": [
      "Iteration: 100%|██████████| 2105/2105 [00:21<00:00, 97.69it/s] \n",
      "04/10/2019 20:58:20 - INFO - lib.train_eval -   ***** Running evaluation *****\n",
      "04/10/2019 20:58:20 - INFO - lib.train_eval -     Num examples = 872\n",
      "04/10/2019 20:58:20 - INFO - lib.train_eval -     Batch size = 8\n",
      "Evaluating: 100%|██████████| 109/109 [00:00<00:00, 342.15it/s]\n",
      "04/10/2019 20:58:20 - INFO - lib.train_eval -   ***** Eval results *****\n",
      "04/10/2019 20:58:20 - INFO - lib.train_eval -     eval_accuracy = 0.6089449541284404\n",
      "04/10/2019 20:58:20 - INFO - lib.train_eval -     eval_loss = 0.06262624967809118\n"
     ]
    },
    {
     "name": "stdout",
     "output_type": "stream",
     "text": [
      "{'eval_loss': 0.06262624967809118, 'eval_accuracy': 0.6089449541284404}\n",
      "______Epoch_______: 29\n"
     ]
    },
    {
     "name": "stderr",
     "output_type": "stream",
     "text": [
      "\r",
      "Iteration:   0%|          | 0/2105 [00:00<?, ?it/s]"
     ]
    },
    {
     "name": "stdout",
     "output_type": "stream",
     "text": [
      "***** Running training *****\n",
      "Num examples: 67349\n",
      "Batch size:   32\n",
      "Num steps:    2104\n",
      "Epoch: 1\n"
     ]
    },
    {
     "name": "stderr",
     "output_type": "stream",
     "text": [
      "Iteration: 100%|██████████| 2105/2105 [00:20<00:00, 100.69it/s]\n",
      "04/10/2019 20:58:49 - INFO - lib.train_eval -   ***** Running evaluation *****\n",
      "04/10/2019 20:58:49 - INFO - lib.train_eval -     Num examples = 872\n",
      "04/10/2019 20:58:49 - INFO - lib.train_eval -     Batch size = 8\n",
      "Evaluating: 100%|██████████| 109/109 [00:00<00:00, 329.28it/s]\n",
      "04/10/2019 20:58:49 - INFO - lib.train_eval -   ***** Eval results *****\n",
      "04/10/2019 20:58:49 - INFO - lib.train_eval -     eval_accuracy = 0.6055045871559633\n",
      "04/10/2019 20:58:49 - INFO - lib.train_eval -     eval_loss = 0.06664493861138274\n"
     ]
    },
    {
     "name": "stdout",
     "output_type": "stream",
     "text": [
      "{'eval_loss': 0.06664493861138274, 'eval_accuracy': 0.6055045871559633}\n",
      "______Epoch_______: 30\n"
     ]
    },
    {
     "name": "stderr",
     "output_type": "stream",
     "text": [
      "Iteration:   0%|          | 10/2105 [00:00<00:22, 91.23it/s]"
     ]
    },
    {
     "name": "stdout",
     "output_type": "stream",
     "text": [
      "***** Running training *****\n",
      "Num examples: 67349\n",
      "Batch size:   32\n",
      "Num steps:    2104\n",
      "Epoch: 1\n"
     ]
    },
    {
     "name": "stderr",
     "output_type": "stream",
     "text": [
      "Iteration: 100%|██████████| 2105/2105 [00:20<00:00, 102.91it/s]\n",
      "04/10/2019 20:59:17 - INFO - lib.train_eval -   ***** Running evaluation *****\n",
      "04/10/2019 20:59:17 - INFO - lib.train_eval -     Num examples = 872\n",
      "04/10/2019 20:59:17 - INFO - lib.train_eval -     Batch size = 8\n",
      "Evaluating: 100%|██████████| 109/109 [00:00<00:00, 344.14it/s]\n",
      "04/10/2019 20:59:18 - INFO - lib.train_eval -   ***** Eval results *****\n",
      "04/10/2019 20:59:18 - INFO - lib.train_eval -     eval_accuracy = 0.6077981651376146\n",
      "04/10/2019 20:59:18 - INFO - lib.train_eval -     eval_loss = 0.073540662953613\n"
     ]
    },
    {
     "name": "stdout",
     "output_type": "stream",
     "text": [
      "{'eval_loss': 0.073540662953613, 'eval_accuracy': 0.6077981651376146}\n",
      "______Epoch_______: 31\n"
     ]
    },
    {
     "name": "stderr",
     "output_type": "stream",
     "text": [
      "\r",
      "Iteration:   0%|          | 0/2105 [00:00<?, ?it/s]"
     ]
    },
    {
     "name": "stdout",
     "output_type": "stream",
     "text": [
      "***** Running training *****\n",
      "Num examples: 67349\n",
      "Batch size:   32\n",
      "Num steps:    2104\n",
      "Epoch: 1\n"
     ]
    },
    {
     "name": "stderr",
     "output_type": "stream",
     "text": [
      "Iteration: 100%|██████████| 2105/2105 [00:20<00:00, 101.70it/s]\n",
      "04/10/2019 20:59:46 - INFO - lib.train_eval -   ***** Running evaluation *****\n",
      "04/10/2019 20:59:46 - INFO - lib.train_eval -     Num examples = 872\n",
      "04/10/2019 20:59:46 - INFO - lib.train_eval -     Batch size = 8\n",
      "Evaluating: 100%|██████████| 109/109 [00:00<00:00, 339.54it/s]\n",
      "04/10/2019 20:59:46 - INFO - lib.train_eval -   ***** Eval results *****\n",
      "04/10/2019 20:59:46 - INFO - lib.train_eval -     eval_accuracy = 0.6135321100917431\n",
      "04/10/2019 20:59:46 - INFO - lib.train_eval -     eval_loss = 0.08026332626922415\n"
     ]
    },
    {
     "name": "stdout",
     "output_type": "stream",
     "text": [
      "{'eval_loss': 0.08026332626922415, 'eval_accuracy': 0.6135321100917431}\n",
      "______Epoch_______: 32\n"
     ]
    },
    {
     "name": "stderr",
     "output_type": "stream",
     "text": [
      "\r",
      "Iteration:   0%|          | 0/2105 [00:00<?, ?it/s]"
     ]
    },
    {
     "name": "stdout",
     "output_type": "stream",
     "text": [
      "***** Running training *****\n",
      "Num examples: 67349\n",
      "Batch size:   32\n",
      "Num steps:    2104\n",
      "Epoch: 1\n"
     ]
    },
    {
     "name": "stderr",
     "output_type": "stream",
     "text": [
      "Iteration: 100%|██████████| 2105/2105 [00:20<00:00, 101.27it/s]\n",
      "04/10/2019 21:00:14 - INFO - lib.train_eval -   ***** Running evaluation *****\n",
      "04/10/2019 21:00:14 - INFO - lib.train_eval -     Num examples = 872\n",
      "04/10/2019 21:00:14 - INFO - lib.train_eval -     Batch size = 8\n",
      "Evaluating: 100%|██████████| 109/109 [00:00<00:00, 342.84it/s]\n",
      "04/10/2019 21:00:14 - INFO - lib.train_eval -   ***** Eval results *****\n",
      "04/10/2019 21:00:14 - INFO - lib.train_eval -     eval_accuracy = 0.6158256880733946\n",
      "04/10/2019 21:00:14 - INFO - lib.train_eval -     eval_loss = 0.0839009831804748\n"
     ]
    },
    {
     "name": "stdout",
     "output_type": "stream",
     "text": [
      "{'eval_loss': 0.0839009831804748, 'eval_accuracy': 0.6158256880733946}\n",
      "______Epoch_______: 33\n"
     ]
    },
    {
     "name": "stderr",
     "output_type": "stream",
     "text": [
      "\r",
      "Iteration:   0%|          | 0/2105 [00:00<?, ?it/s]"
     ]
    },
    {
     "name": "stdout",
     "output_type": "stream",
     "text": [
      "***** Running training *****\n",
      "Num examples: 67349\n",
      "Batch size:   32\n",
      "Num steps:    2104\n",
      "Epoch: 1\n"
     ]
    },
    {
     "name": "stderr",
     "output_type": "stream",
     "text": [
      "Iteration: 100%|██████████| 2105/2105 [00:21<00:00, 98.65it/s] \n",
      "04/10/2019 21:00:43 - INFO - lib.train_eval -   ***** Running evaluation *****\n",
      "04/10/2019 21:00:43 - INFO - lib.train_eval -     Num examples = 872\n",
      "04/10/2019 21:00:43 - INFO - lib.train_eval -     Batch size = 8\n",
      "Evaluating: 100%|██████████| 109/109 [00:00<00:00, 343.80it/s]\n",
      "04/10/2019 21:00:43 - INFO - lib.train_eval -   ***** Eval results *****\n",
      "04/10/2019 21:00:43 - INFO - lib.train_eval -     eval_accuracy = 0.6158256880733946\n",
      "04/10/2019 21:00:43 - INFO - lib.train_eval -     eval_loss = 0.09891861574638874\n"
     ]
    },
    {
     "name": "stdout",
     "output_type": "stream",
     "text": [
      "{'eval_loss': 0.09891861574638874, 'eval_accuracy': 0.6158256880733946}\n",
      "______Epoch_______: 34\n"
     ]
    },
    {
     "name": "stderr",
     "output_type": "stream",
     "text": [
      "\r",
      "Iteration:   0%|          | 0/2105 [00:00<?, ?it/s]"
     ]
    },
    {
     "name": "stdout",
     "output_type": "stream",
     "text": [
      "***** Running training *****\n",
      "Num examples: 67349\n",
      "Batch size:   32\n",
      "Num steps:    2104\n",
      "Epoch: 1\n"
     ]
    },
    {
     "name": "stderr",
     "output_type": "stream",
     "text": [
      "Iteration: 100%|██████████| 2105/2105 [00:21<00:00, 100.15it/s]\n",
      "04/10/2019 21:01:12 - INFO - lib.train_eval -   ***** Running evaluation *****\n",
      "04/10/2019 21:01:12 - INFO - lib.train_eval -     Num examples = 872\n",
      "04/10/2019 21:01:12 - INFO - lib.train_eval -     Batch size = 8\n",
      "Evaluating: 100%|██████████| 109/109 [00:00<00:00, 329.25it/s]\n",
      "04/10/2019 21:01:12 - INFO - lib.train_eval -   ***** Eval results *****\n",
      "04/10/2019 21:01:12 - INFO - lib.train_eval -     eval_accuracy = 0.6146788990825688\n",
      "04/10/2019 21:01:12 - INFO - lib.train_eval -     eval_loss = 0.10191173567821127\n"
     ]
    },
    {
     "name": "stdout",
     "output_type": "stream",
     "text": [
      "{'eval_loss': 0.10191173567821127, 'eval_accuracy': 0.6146788990825688}\n",
      "______Epoch_______: 35\n"
     ]
    },
    {
     "name": "stderr",
     "output_type": "stream",
     "text": [
      "\r",
      "Iteration:   0%|          | 0/2105 [00:00<?, ?it/s]"
     ]
    },
    {
     "name": "stdout",
     "output_type": "stream",
     "text": [
      "***** Running training *****\n",
      "Num examples: 67349\n",
      "Batch size:   32\n",
      "Num steps:    2104\n",
      "Epoch: 1\n"
     ]
    },
    {
     "name": "stderr",
     "output_type": "stream",
     "text": [
      "Iteration: 100%|██████████| 2105/2105 [00:20<00:00, 100.94it/s]\n",
      "04/10/2019 21:01:40 - INFO - lib.train_eval -   ***** Running evaluation *****\n",
      "04/10/2019 21:01:40 - INFO - lib.train_eval -     Num examples = 872\n",
      "04/10/2019 21:01:40 - INFO - lib.train_eval -     Batch size = 8\n",
      "Evaluating: 100%|██████████| 109/109 [00:00<00:00, 345.00it/s]\n",
      "04/10/2019 21:01:41 - INFO - lib.train_eval -   ***** Eval results *****\n",
      "04/10/2019 21:01:41 - INFO - lib.train_eval -     eval_accuracy = 0.6181192660550459\n",
      "04/10/2019 21:01:41 - INFO - lib.train_eval -     eval_loss = 0.11032039104798518\n"
     ]
    },
    {
     "name": "stdout",
     "output_type": "stream",
     "text": [
      "{'eval_loss': 0.11032039104798518, 'eval_accuracy': 0.6181192660550459}\n",
      "______Epoch_______: 36\n",
      "***** Running training *****\n",
      "Num examples: 67349\n",
      "Batch size:   32\n",
      "Num steps:    2104\n",
      "Epoch: 1\n"
     ]
    },
    {
     "name": "stderr",
     "output_type": "stream",
     "text": [
      "Iteration: 100%|██████████| 2105/2105 [00:20<00:00, 100.60it/s]\n",
      "04/10/2019 21:02:09 - INFO - lib.train_eval -   ***** Running evaluation *****\n",
      "04/10/2019 21:02:09 - INFO - lib.train_eval -     Num examples = 872\n",
      "04/10/2019 21:02:09 - INFO - lib.train_eval -     Batch size = 8\n",
      "Evaluating: 100%|██████████| 109/109 [00:00<00:00, 344.88it/s]\n",
      "04/10/2019 21:02:09 - INFO - lib.train_eval -   ***** Eval results *****\n",
      "04/10/2019 21:02:09 - INFO - lib.train_eval -     eval_accuracy = 0.6204128440366973\n",
      "04/10/2019 21:02:09 - INFO - lib.train_eval -     eval_loss = 0.12065284480468942\n"
     ]
    },
    {
     "name": "stdout",
     "output_type": "stream",
     "text": [
      "{'eval_loss': 0.12065284480468942, 'eval_accuracy': 0.6204128440366973}\n",
      "______Epoch_______: 37\n"
     ]
    },
    {
     "name": "stderr",
     "output_type": "stream",
     "text": [
      "Iteration:   0%|          | 10/2105 [00:00<00:22, 91.84it/s]"
     ]
    },
    {
     "name": "stdout",
     "output_type": "stream",
     "text": [
      "***** Running training *****\n",
      "Num examples: 67349\n",
      "Batch size:   32\n",
      "Num steps:    2104\n",
      "Epoch: 1\n"
     ]
    },
    {
     "name": "stderr",
     "output_type": "stream",
     "text": [
      "Iteration: 100%|██████████| 2105/2105 [00:20<00:00, 101.23it/s]\n",
      "04/10/2019 21:02:37 - INFO - lib.train_eval -   ***** Running evaluation *****\n",
      "04/10/2019 21:02:37 - INFO - lib.train_eval -     Num examples = 872\n",
      "04/10/2019 21:02:37 - INFO - lib.train_eval -     Batch size = 8\n",
      "Evaluating: 100%|██████████| 109/109 [00:00<00:00, 345.28it/s]\n",
      "04/10/2019 21:02:38 - INFO - lib.train_eval -   ***** Eval results *****\n",
      "04/10/2019 21:02:38 - INFO - lib.train_eval -     eval_accuracy = 0.6158256880733946\n",
      "04/10/2019 21:02:38 - INFO - lib.train_eval -     eval_loss = 0.13046934995629372\n"
     ]
    },
    {
     "name": "stdout",
     "output_type": "stream",
     "text": [
      "{'eval_loss': 0.13046934995629372, 'eval_accuracy': 0.6158256880733946}\n",
      "______Epoch_______: 38\n"
     ]
    },
    {
     "name": "stderr",
     "output_type": "stream",
     "text": [
      "\r",
      "Iteration:   0%|          | 0/2105 [00:00<?, ?it/s]"
     ]
    },
    {
     "name": "stdout",
     "output_type": "stream",
     "text": [
      "***** Running training *****\n",
      "Num examples: 67349\n",
      "Batch size:   32\n",
      "Num steps:    2104\n",
      "Epoch: 1\n"
     ]
    },
    {
     "name": "stderr",
     "output_type": "stream",
     "text": [
      "Iteration: 100%|██████████| 2105/2105 [00:20<00:00, 101.11it/s]\n",
      "04/10/2019 21:03:06 - INFO - lib.train_eval -   ***** Running evaluation *****\n",
      "04/10/2019 21:03:06 - INFO - lib.train_eval -     Num examples = 872\n",
      "04/10/2019 21:03:06 - INFO - lib.train_eval -     Batch size = 8\n",
      "Evaluating: 100%|██████████| 109/109 [00:00<00:00, 335.15it/s]\n",
      "04/10/2019 21:03:06 - INFO - lib.train_eval -   ***** Eval results *****\n",
      "04/10/2019 21:03:06 - INFO - lib.train_eval -     eval_accuracy = 0.6112385321100917\n",
      "04/10/2019 21:03:06 - INFO - lib.train_eval -     eval_loss = 0.13328051724291723\n"
     ]
    },
    {
     "name": "stdout",
     "output_type": "stream",
     "text": [
      "{'eval_loss': 0.13328051724291723, 'eval_accuracy': 0.6112385321100917}\n",
      "______Epoch_______: 39\n"
     ]
    },
    {
     "name": "stderr",
     "output_type": "stream",
     "text": [
      "\r",
      "Iteration:   0%|          | 0/2105 [00:00<?, ?it/s]"
     ]
    },
    {
     "name": "stdout",
     "output_type": "stream",
     "text": [
      "***** Running training *****\n",
      "Num examples: 67349\n",
      "Batch size:   32\n",
      "Num steps:    2104\n",
      "Epoch: 1\n"
     ]
    },
    {
     "name": "stderr",
     "output_type": "stream",
     "text": [
      "Iteration: 100%|██████████| 2105/2105 [00:20<00:00, 100.67it/s]\n",
      "04/10/2019 21:03:34 - INFO - lib.train_eval -   ***** Running evaluation *****\n",
      "04/10/2019 21:03:34 - INFO - lib.train_eval -     Num examples = 872\n",
      "04/10/2019 21:03:34 - INFO - lib.train_eval -     Batch size = 8\n",
      "Evaluating: 100%|██████████| 109/109 [00:00<00:00, 335.43it/s]\n",
      "04/10/2019 21:03:35 - INFO - lib.train_eval -   ***** Eval results *****\n",
      "04/10/2019 21:03:35 - INFO - lib.train_eval -     eval_accuracy = 0.6158256880733946\n",
      "04/10/2019 21:03:35 - INFO - lib.train_eval -     eval_loss = 0.13462375876826976\n"
     ]
    },
    {
     "name": "stdout",
     "output_type": "stream",
     "text": [
      "{'eval_loss': 0.13462375876826976, 'eval_accuracy': 0.6158256880733946}\n",
      "______Epoch_______: 40\n"
     ]
    },
    {
     "name": "stderr",
     "output_type": "stream",
     "text": [
      "\r",
      "Iteration:   0%|          | 0/2105 [00:00<?, ?it/s]"
     ]
    },
    {
     "name": "stdout",
     "output_type": "stream",
     "text": [
      "***** Running training *****\n",
      "Num examples: 67349\n",
      "Batch size:   32\n",
      "Num steps:    2104\n",
      "Epoch: 1\n"
     ]
    },
    {
     "name": "stderr",
     "output_type": "stream",
     "text": [
      "Iteration: 100%|██████████| 2105/2105 [00:20<00:00, 100.74it/s]\n",
      "04/10/2019 21:04:03 - INFO - lib.train_eval -   ***** Running evaluation *****\n",
      "04/10/2019 21:04:03 - INFO - lib.train_eval -     Num examples = 872\n",
      "04/10/2019 21:04:03 - INFO - lib.train_eval -     Batch size = 8\n",
      "Evaluating: 100%|██████████| 109/109 [00:00<00:00, 331.59it/s]\n",
      "04/10/2019 21:04:03 - INFO - lib.train_eval -   ***** Eval results *****\n",
      "04/10/2019 21:04:03 - INFO - lib.train_eval -     eval_accuracy = 0.6123853211009175\n",
      "04/10/2019 21:04:03 - INFO - lib.train_eval -     eval_loss = 0.14147627627084014\n"
     ]
    },
    {
     "name": "stdout",
     "output_type": "stream",
     "text": [
      "{'eval_loss': 0.14147627627084014, 'eval_accuracy': 0.6123853211009175}\n"
     ]
    }
   ],
   "source": [
    "for i in range(20, 40):\n",
    "    print('______Epoch_______: {}'.format(i + 1))\n",
    "    result = train_blend_cnn(model, train_examples, label_list, params, tokenizer)\n",
    "    result = evaluate(model, eval_examples, label_list, params, tokenizer)\n",
    "    print(result)\n",
    "    "
   ]
  },
  {
   "cell_type": "code",
   "execution_count": 9,
   "metadata": {},
   "outputs": [
    {
     "name": "stdout",
     "output_type": "stream",
     "text": [
      "______Epoch_______: 41\n"
     ]
    },
    {
     "name": "stderr",
     "output_type": "stream",
     "text": [
      "\r",
      "Iteration:   0%|          | 0/2105 [00:00<?, ?it/s]"
     ]
    },
    {
     "name": "stdout",
     "output_type": "stream",
     "text": [
      "***** Running training *****\n",
      "Num examples: 67349\n",
      "Batch size:   32\n",
      "Num steps:    2104\n",
      "Epoch: 1\n"
     ]
    },
    {
     "name": "stderr",
     "output_type": "stream",
     "text": [
      "Iteration: 100%|██████████| 2105/2105 [00:21<00:00, 102.77it/s]\n",
      "04/10/2019 21:20:51 - INFO - lib.train_eval -   ***** Running evaluation *****\n",
      "04/10/2019 21:20:51 - INFO - lib.train_eval -     Num examples = 872\n",
      "04/10/2019 21:20:51 - INFO - lib.train_eval -     Batch size = 8\n",
      "Evaluating: 100%|██████████| 109/109 [00:00<00:00, 341.67it/s]\n",
      "04/10/2019 21:20:52 - INFO - lib.train_eval -   ***** Eval results *****\n",
      "04/10/2019 21:20:52 - INFO - lib.train_eval -     eval_accuracy = 0.6318807339449541\n",
      "04/10/2019 21:20:52 - INFO - lib.train_eval -     eval_loss = 0.13185403656658776\n"
     ]
    },
    {
     "name": "stdout",
     "output_type": "stream",
     "text": [
      "{'eval_loss': 0.13185403656658776, 'eval_accuracy': 0.6318807339449541}\n",
      "______Epoch_______: 42\n"
     ]
    },
    {
     "name": "stderr",
     "output_type": "stream",
     "text": [
      "\r",
      "Iteration:   0%|          | 0/2105 [00:00<?, ?it/s]"
     ]
    },
    {
     "name": "stdout",
     "output_type": "stream",
     "text": [
      "***** Running training *****\n",
      "Num examples: 67349\n",
      "Batch size:   32\n",
      "Num steps:    2104\n",
      "Epoch: 1\n"
     ]
    },
    {
     "name": "stderr",
     "output_type": "stream",
     "text": [
      "Iteration: 100%|██████████| 2105/2105 [00:20<00:00, 101.39it/s]\n",
      "04/10/2019 21:21:20 - INFO - lib.train_eval -   ***** Running evaluation *****\n",
      "04/10/2019 21:21:20 - INFO - lib.train_eval -     Num examples = 872\n",
      "04/10/2019 21:21:20 - INFO - lib.train_eval -     Batch size = 8\n",
      "Evaluating: 100%|██████████| 109/109 [00:00<00:00, 330.85it/s]\n",
      "04/10/2019 21:21:20 - INFO - lib.train_eval -   ***** Eval results *****\n",
      "04/10/2019 21:21:20 - INFO - lib.train_eval -     eval_accuracy = 0.6135321100917431\n",
      "04/10/2019 21:21:20 - INFO - lib.train_eval -     eval_loss = 0.13238035046726193\n"
     ]
    },
    {
     "name": "stdout",
     "output_type": "stream",
     "text": [
      "{'eval_loss': 0.13238035046726193, 'eval_accuracy': 0.6135321100917431}\n",
      "______Epoch_______: 43\n"
     ]
    },
    {
     "name": "stderr",
     "output_type": "stream",
     "text": [
      "\r",
      "Iteration:   0%|          | 0/2105 [00:00<?, ?it/s]"
     ]
    },
    {
     "name": "stdout",
     "output_type": "stream",
     "text": [
      "***** Running training *****\n",
      "Num examples: 67349\n",
      "Batch size:   32\n",
      "Num steps:    2104\n",
      "Epoch: 1\n"
     ]
    },
    {
     "name": "stderr",
     "output_type": "stream",
     "text": [
      "Iteration: 100%|██████████| 2105/2105 [00:20<00:00, 100.35it/s]\n",
      "04/10/2019 21:21:49 - INFO - lib.train_eval -   ***** Running evaluation *****\n",
      "04/10/2019 21:21:49 - INFO - lib.train_eval -     Num examples = 872\n",
      "04/10/2019 21:21:49 - INFO - lib.train_eval -     Batch size = 8\n",
      "Evaluating: 100%|██████████| 109/109 [00:00<00:00, 342.70it/s]\n",
      "04/10/2019 21:21:49 - INFO - lib.train_eval -   ***** Eval results *****\n",
      "04/10/2019 21:21:49 - INFO - lib.train_eval -     eval_accuracy = 0.6077981651376146\n",
      "04/10/2019 21:21:49 - INFO - lib.train_eval -     eval_loss = 0.13107405056100374\n"
     ]
    },
    {
     "name": "stdout",
     "output_type": "stream",
     "text": [
      "{'eval_loss': 0.13107405056100374, 'eval_accuracy': 0.6077981651376146}\n",
      "______Epoch_______: 44\n"
     ]
    },
    {
     "name": "stderr",
     "output_type": "stream",
     "text": [
      "\r",
      "Iteration:   0%|          | 0/2105 [00:00<?, ?it/s]"
     ]
    },
    {
     "name": "stdout",
     "output_type": "stream",
     "text": [
      "***** Running training *****\n",
      "Num examples: 67349\n",
      "Batch size:   32\n",
      "Num steps:    2104\n",
      "Epoch: 1\n"
     ]
    },
    {
     "name": "stderr",
     "output_type": "stream",
     "text": [
      "Iteration: 100%|██████████| 2105/2105 [00:20<00:00, 100.77it/s]\n",
      "04/10/2019 21:22:17 - INFO - lib.train_eval -   ***** Running evaluation *****\n",
      "04/10/2019 21:22:17 - INFO - lib.train_eval -     Num examples = 872\n",
      "04/10/2019 21:22:17 - INFO - lib.train_eval -     Batch size = 8\n",
      "Evaluating: 100%|██████████| 109/109 [00:00<00:00, 331.54it/s]\n",
      "04/10/2019 21:22:17 - INFO - lib.train_eval -   ***** Eval results *****\n",
      "04/10/2019 21:22:17 - INFO - lib.train_eval -     eval_accuracy = 0.6089449541284404\n",
      "04/10/2019 21:22:17 - INFO - lib.train_eval -     eval_loss = 0.12549638502094723\n"
     ]
    },
    {
     "name": "stdout",
     "output_type": "stream",
     "text": [
      "{'eval_loss': 0.12549638502094723, 'eval_accuracy': 0.6089449541284404}\n",
      "______Epoch_______: 45\n"
     ]
    },
    {
     "name": "stderr",
     "output_type": "stream",
     "text": [
      "\r",
      "Iteration:   0%|          | 0/2105 [00:00<?, ?it/s]"
     ]
    },
    {
     "name": "stdout",
     "output_type": "stream",
     "text": [
      "***** Running training *****\n",
      "Num examples: 67349\n",
      "Batch size:   32\n",
      "Num steps:    2104\n",
      "Epoch: 1\n"
     ]
    },
    {
     "name": "stderr",
     "output_type": "stream",
     "text": [
      "Iteration: 100%|██████████| 2105/2105 [00:20<00:00, 100.69it/s]\n",
      "04/10/2019 21:22:46 - INFO - lib.train_eval -   ***** Running evaluation *****\n",
      "04/10/2019 21:22:46 - INFO - lib.train_eval -     Num examples = 872\n",
      "04/10/2019 21:22:46 - INFO - lib.train_eval -     Batch size = 8\n",
      "Evaluating: 100%|██████████| 109/109 [00:00<00:00, 345.77it/s]\n",
      "04/10/2019 21:22:46 - INFO - lib.train_eval -   ***** Eval results *****\n",
      "04/10/2019 21:22:46 - INFO - lib.train_eval -     eval_accuracy = 0.6135321100917431\n",
      "04/10/2019 21:22:46 - INFO - lib.train_eval -     eval_loss = 0.1181541548683009\n"
     ]
    },
    {
     "name": "stdout",
     "output_type": "stream",
     "text": [
      "{'eval_loss': 0.1181541548683009, 'eval_accuracy': 0.6135321100917431}\n",
      "______Epoch_______: 46\n"
     ]
    },
    {
     "name": "stderr",
     "output_type": "stream",
     "text": [
      "\r",
      "Iteration:   0%|          | 0/2105 [00:00<?, ?it/s]"
     ]
    },
    {
     "name": "stdout",
     "output_type": "stream",
     "text": [
      "***** Running training *****\n",
      "Num examples: 67349\n",
      "Batch size:   32\n",
      "Num steps:    2104\n",
      "Epoch: 1\n"
     ]
    },
    {
     "name": "stderr",
     "output_type": "stream",
     "text": [
      "Iteration: 100%|██████████| 2105/2105 [00:20<00:00, 100.57it/s]\n",
      "04/10/2019 21:23:14 - INFO - lib.train_eval -   ***** Running evaluation *****\n",
      "04/10/2019 21:23:14 - INFO - lib.train_eval -     Num examples = 872\n",
      "04/10/2019 21:23:14 - INFO - lib.train_eval -     Batch size = 8\n",
      "Evaluating: 100%|██████████| 109/109 [00:00<00:00, 331.71it/s]\n",
      "04/10/2019 21:23:14 - INFO - lib.train_eval -   ***** Eval results *****\n",
      "04/10/2019 21:23:14 - INFO - lib.train_eval -     eval_accuracy = 0.6077981651376146\n",
      "04/10/2019 21:23:14 - INFO - lib.train_eval -     eval_loss = 0.09947864424198045\n"
     ]
    },
    {
     "name": "stdout",
     "output_type": "stream",
     "text": [
      "{'eval_loss': 0.09947864424198045, 'eval_accuracy': 0.6077981651376146}\n",
      "______Epoch_______: 47\n",
      "***** Running training *****\n",
      "Num examples: 67349\n",
      "Batch size:   32\n",
      "Num steps:    2104\n",
      "Epoch: 1\n"
     ]
    },
    {
     "name": "stderr",
     "output_type": "stream",
     "text": [
      "Iteration: 100%|██████████| 2105/2105 [00:20<00:00, 101.26it/s]\n",
      "04/10/2019 21:23:43 - INFO - lib.train_eval -   ***** Running evaluation *****\n",
      "04/10/2019 21:23:43 - INFO - lib.train_eval -     Num examples = 872\n",
      "04/10/2019 21:23:43 - INFO - lib.train_eval -     Batch size = 8\n",
      "Evaluating: 100%|██████████| 109/109 [00:00<00:00, 338.80it/s]\n",
      "04/10/2019 21:23:43 - INFO - lib.train_eval -   ***** Eval results *****\n",
      "04/10/2019 21:23:43 - INFO - lib.train_eval -     eval_accuracy = 0.6112385321100917\n",
      "04/10/2019 21:23:43 - INFO - lib.train_eval -     eval_loss = 0.09430420873772113\n"
     ]
    },
    {
     "name": "stdout",
     "output_type": "stream",
     "text": [
      "{'eval_loss': 0.09430420873772113, 'eval_accuracy': 0.6112385321100917}\n",
      "______Epoch_______: 48\n"
     ]
    },
    {
     "name": "stderr",
     "output_type": "stream",
     "text": [
      "\r",
      "Iteration:   0%|          | 0/2105 [00:00<?, ?it/s]"
     ]
    },
    {
     "name": "stdout",
     "output_type": "stream",
     "text": [
      "***** Running training *****\n",
      "Num examples: 67349\n",
      "Batch size:   32\n",
      "Num steps:    2104\n",
      "Epoch: 1\n"
     ]
    },
    {
     "name": "stderr",
     "output_type": "stream",
     "text": [
      "Iteration: 100%|██████████| 2105/2105 [00:20<00:00, 101.40it/s]\n",
      "04/10/2019 21:24:11 - INFO - lib.train_eval -   ***** Running evaluation *****\n",
      "04/10/2019 21:24:11 - INFO - lib.train_eval -     Num examples = 872\n",
      "04/10/2019 21:24:11 - INFO - lib.train_eval -     Batch size = 8\n",
      "Evaluating: 100%|██████████| 109/109 [00:00<00:00, 338.07it/s]\n",
      "04/10/2019 21:24:11 - INFO - lib.train_eval -   ***** Eval results *****\n",
      "04/10/2019 21:24:11 - INFO - lib.train_eval -     eval_accuracy = 0.6181192660550459\n",
      "04/10/2019 21:24:11 - INFO - lib.train_eval -     eval_loss = 0.09525429782107336\n"
     ]
    },
    {
     "name": "stdout",
     "output_type": "stream",
     "text": [
      "{'eval_loss': 0.09525429782107336, 'eval_accuracy': 0.6181192660550459}\n",
      "______Epoch_______: 49\n"
     ]
    },
    {
     "name": "stderr",
     "output_type": "stream",
     "text": [
      "\r",
      "Iteration:   0%|          | 0/2105 [00:00<?, ?it/s]"
     ]
    },
    {
     "name": "stdout",
     "output_type": "stream",
     "text": [
      "***** Running training *****\n",
      "Num examples: 67349\n",
      "Batch size:   32\n",
      "Num steps:    2104\n",
      "Epoch: 1\n"
     ]
    },
    {
     "name": "stderr",
     "output_type": "stream",
     "text": [
      "Iteration: 100%|██████████| 2105/2105 [00:20<00:00, 101.61it/s]\n",
      "04/10/2019 21:24:39 - INFO - lib.train_eval -   ***** Running evaluation *****\n",
      "04/10/2019 21:24:39 - INFO - lib.train_eval -     Num examples = 872\n",
      "04/10/2019 21:24:39 - INFO - lib.train_eval -     Batch size = 8\n",
      "Evaluating: 100%|██████████| 109/109 [00:00<00:00, 344.96it/s]\n",
      "04/10/2019 21:24:40 - INFO - lib.train_eval -   ***** Eval results *****\n",
      "04/10/2019 21:24:40 - INFO - lib.train_eval -     eval_accuracy = 0.6043577981651376\n",
      "04/10/2019 21:24:40 - INFO - lib.train_eval -     eval_loss = 0.07555771634461136\n"
     ]
    },
    {
     "name": "stdout",
     "output_type": "stream",
     "text": [
      "{'eval_loss': 0.07555771634461136, 'eval_accuracy': 0.6043577981651376}\n",
      "______Epoch_______: 50\n"
     ]
    },
    {
     "name": "stderr",
     "output_type": "stream",
     "text": [
      "\r",
      "Iteration:   0%|          | 0/2105 [00:00<?, ?it/s]"
     ]
    },
    {
     "name": "stdout",
     "output_type": "stream",
     "text": [
      "***** Running training *****\n",
      "Num examples: 67349\n",
      "Batch size:   32\n",
      "Num steps:    2104\n",
      "Epoch: 1\n"
     ]
    },
    {
     "name": "stderr",
     "output_type": "stream",
     "text": [
      "Iteration: 100%|██████████| 2105/2105 [00:20<00:00, 101.27it/s]\n",
      "04/10/2019 21:25:08 - INFO - lib.train_eval -   ***** Running evaluation *****\n",
      "04/10/2019 21:25:08 - INFO - lib.train_eval -     Num examples = 872\n",
      "04/10/2019 21:25:08 - INFO - lib.train_eval -     Batch size = 8\n",
      "Evaluating: 100%|██████████| 109/109 [00:00<00:00, 344.49it/s]\n",
      "04/10/2019 21:25:08 - INFO - lib.train_eval -   ***** Eval results *****\n",
      "04/10/2019 21:25:08 - INFO - lib.train_eval -     eval_accuracy = 0.6089449541284404\n",
      "04/10/2019 21:25:08 - INFO - lib.train_eval -     eval_loss = 0.07349082734435797\n"
     ]
    },
    {
     "name": "stdout",
     "output_type": "stream",
     "text": [
      "{'eval_loss': 0.07349082734435797, 'eval_accuracy': 0.6089449541284404}\n",
      "______Epoch_______: 51\n"
     ]
    },
    {
     "name": "stderr",
     "output_type": "stream",
     "text": [
      "\r",
      "Iteration:   0%|          | 0/2105 [00:00<?, ?it/s]"
     ]
    },
    {
     "name": "stdout",
     "output_type": "stream",
     "text": [
      "***** Running training *****\n",
      "Num examples: 67349\n",
      "Batch size:   32\n",
      "Num steps:    2104\n",
      "Epoch: 1\n"
     ]
    },
    {
     "name": "stderr",
     "output_type": "stream",
     "text": [
      "Iteration: 100%|██████████| 2105/2105 [00:20<00:00, 100.40it/s]\n",
      "04/10/2019 21:25:37 - INFO - lib.train_eval -   ***** Running evaluation *****\n",
      "04/10/2019 21:25:37 - INFO - lib.train_eval -     Num examples = 872\n",
      "04/10/2019 21:25:37 - INFO - lib.train_eval -     Batch size = 8\n",
      "Evaluating: 100%|██████████| 109/109 [00:00<00:00, 329.82it/s]\n",
      "04/10/2019 21:25:37 - INFO - lib.train_eval -   ***** Eval results *****\n",
      "04/10/2019 21:25:37 - INFO - lib.train_eval -     eval_accuracy = 0.6169724770642202\n",
      "04/10/2019 21:25:37 - INFO - lib.train_eval -     eval_loss = 0.039673099243039384\n"
     ]
    },
    {
     "name": "stdout",
     "output_type": "stream",
     "text": [
      "{'eval_loss': 0.039673099243039384, 'eval_accuracy': 0.6169724770642202}\n",
      "______Epoch_______: 52\n"
     ]
    },
    {
     "name": "stderr",
     "output_type": "stream",
     "text": [
      "\r",
      "Iteration:   0%|          | 0/2105 [00:00<?, ?it/s]"
     ]
    },
    {
     "name": "stdout",
     "output_type": "stream",
     "text": [
      "***** Running training *****\n",
      "Num examples: 67349\n",
      "Batch size:   32\n",
      "Num steps:    2104\n",
      "Epoch: 1\n"
     ]
    },
    {
     "name": "stderr",
     "output_type": "stream",
     "text": [
      "Iteration: 100%|██████████| 2105/2105 [00:21<00:00, 99.80it/s] \n",
      "04/10/2019 21:26:05 - INFO - lib.train_eval -   ***** Running evaluation *****\n",
      "04/10/2019 21:26:05 - INFO - lib.train_eval -     Num examples = 872\n",
      "04/10/2019 21:26:05 - INFO - lib.train_eval -     Batch size = 8\n",
      "Evaluating: 100%|██████████| 109/109 [00:00<00:00, 344.82it/s]\n",
      "04/10/2019 21:26:06 - INFO - lib.train_eval -   ***** Eval results *****\n",
      "04/10/2019 21:26:06 - INFO - lib.train_eval -     eval_accuracy = 0.6192660550458715\n",
      "04/10/2019 21:26:06 - INFO - lib.train_eval -     eval_loss = 0.038380577895414394\n"
     ]
    },
    {
     "name": "stdout",
     "output_type": "stream",
     "text": [
      "{'eval_loss': 0.038380577895414394, 'eval_accuracy': 0.6192660550458715}\n",
      "______Epoch_______: 53\n"
     ]
    },
    {
     "name": "stderr",
     "output_type": "stream",
     "text": [
      "\r",
      "Iteration:   0%|          | 0/2105 [00:00<?, ?it/s]"
     ]
    },
    {
     "name": "stdout",
     "output_type": "stream",
     "text": [
      "***** Running training *****\n",
      "Num examples: 67349\n",
      "Batch size:   32\n",
      "Num steps:    2104\n",
      "Epoch: 1\n"
     ]
    },
    {
     "name": "stderr",
     "output_type": "stream",
     "text": [
      "Iteration: 100%|██████████| 2105/2105 [00:20<00:00, 100.47it/s]\n",
      "04/10/2019 21:26:34 - INFO - lib.train_eval -   ***** Running evaluation *****\n",
      "04/10/2019 21:26:34 - INFO - lib.train_eval -     Num examples = 872\n",
      "04/10/2019 21:26:34 - INFO - lib.train_eval -     Batch size = 8\n",
      "Evaluating: 100%|██████████| 109/109 [00:00<00:00, 344.76it/s]\n",
      "04/10/2019 21:26:34 - INFO - lib.train_eval -   ***** Eval results *****\n",
      "04/10/2019 21:26:34 - INFO - lib.train_eval -     eval_accuracy = 0.6181192660550459\n",
      "04/10/2019 21:26:34 - INFO - lib.train_eval -     eval_loss = 0.02777965489450261\n"
     ]
    },
    {
     "name": "stdout",
     "output_type": "stream",
     "text": [
      "{'eval_loss': 0.02777965489450261, 'eval_accuracy': 0.6181192660550459}\n",
      "______Epoch_______: 54\n"
     ]
    },
    {
     "name": "stderr",
     "output_type": "stream",
     "text": [
      "Iteration:   0%|          | 10/2105 [00:00<00:23, 90.68it/s]"
     ]
    },
    {
     "name": "stdout",
     "output_type": "stream",
     "text": [
      "***** Running training *****\n",
      "Num examples: 67349\n",
      "Batch size:   32\n",
      "Num steps:    2104\n",
      "Epoch: 1\n"
     ]
    },
    {
     "name": "stderr",
     "output_type": "stream",
     "text": [
      "Iteration: 100%|██████████| 2105/2105 [00:20<00:00, 100.70it/s]\n",
      "04/10/2019 21:27:03 - INFO - lib.train_eval -   ***** Running evaluation *****\n",
      "04/10/2019 21:27:03 - INFO - lib.train_eval -     Num examples = 872\n",
      "04/10/2019 21:27:03 - INFO - lib.train_eval -     Batch size = 8\n",
      "Evaluating: 100%|██████████| 109/109 [00:00<00:00, 342.58it/s]\n",
      "04/10/2019 21:27:03 - INFO - lib.train_eval -   ***** Eval results *****\n",
      "04/10/2019 21:27:03 - INFO - lib.train_eval -     eval_accuracy = 0.6158256880733946\n",
      "04/10/2019 21:27:03 - INFO - lib.train_eval -     eval_loss = 0.0071424493531978455\n"
     ]
    },
    {
     "name": "stdout",
     "output_type": "stream",
     "text": [
      "{'eval_loss': 0.0071424493531978455, 'eval_accuracy': 0.6158256880733946}\n",
      "______Epoch_______: 55\n"
     ]
    },
    {
     "name": "stderr",
     "output_type": "stream",
     "text": [
      "\r",
      "Iteration:   0%|          | 0/2105 [00:00<?, ?it/s]"
     ]
    },
    {
     "name": "stdout",
     "output_type": "stream",
     "text": [
      "***** Running training *****\n",
      "Num examples: 67349\n",
      "Batch size:   32\n",
      "Num steps:    2104\n",
      "Epoch: 1\n"
     ]
    },
    {
     "name": "stderr",
     "output_type": "stream",
     "text": [
      "Iteration: 100%|██████████| 2105/2105 [00:20<00:00, 101.13it/s]\n",
      "04/10/2019 21:27:31 - INFO - lib.train_eval -   ***** Running evaluation *****\n",
      "04/10/2019 21:27:31 - INFO - lib.train_eval -     Num examples = 872\n",
      "04/10/2019 21:27:31 - INFO - lib.train_eval -     Batch size = 8\n",
      "Evaluating: 100%|██████████| 109/109 [00:00<00:00, 345.75it/s]\n",
      "04/10/2019 21:27:31 - INFO - lib.train_eval -   ***** Eval results *****\n",
      "04/10/2019 21:27:31 - INFO - lib.train_eval -     eval_accuracy = 0.6181192660550459\n",
      "04/10/2019 21:27:31 - INFO - lib.train_eval -     eval_loss = -0.013868343358466385\n"
     ]
    },
    {
     "name": "stdout",
     "output_type": "stream",
     "text": [
      "{'eval_loss': -0.013868343358466385, 'eval_accuracy': 0.6181192660550459}\n",
      "______Epoch_______: 56\n"
     ]
    },
    {
     "name": "stderr",
     "output_type": "stream",
     "text": [
      "\r",
      "Iteration:   0%|          | 0/2105 [00:00<?, ?it/s]"
     ]
    },
    {
     "name": "stdout",
     "output_type": "stream",
     "text": [
      "***** Running training *****\n",
      "Num examples: 67349\n",
      "Batch size:   32\n",
      "Num steps:    2104\n",
      "Epoch: 1\n"
     ]
    },
    {
     "name": "stderr",
     "output_type": "stream",
     "text": [
      "Iteration: 100%|██████████| 2105/2105 [00:20<00:00, 100.47it/s]\n",
      "04/10/2019 21:27:59 - INFO - lib.train_eval -   ***** Running evaluation *****\n",
      "04/10/2019 21:27:59 - INFO - lib.train_eval -     Num examples = 872\n",
      "04/10/2019 21:27:59 - INFO - lib.train_eval -     Batch size = 8\n",
      "Evaluating: 100%|██████████| 109/109 [00:00<00:00, 332.60it/s]\n",
      "04/10/2019 21:28:00 - INFO - lib.train_eval -   ***** Eval results *****\n",
      "04/10/2019 21:28:00 - INFO - lib.train_eval -     eval_accuracy = 0.6238532110091743\n",
      "04/10/2019 21:28:00 - INFO - lib.train_eval -     eval_loss = -0.015509795551316454\n"
     ]
    },
    {
     "name": "stdout",
     "output_type": "stream",
     "text": [
      "{'eval_loss': -0.015509795551316454, 'eval_accuracy': 0.6238532110091743}\n",
      "______Epoch_______: 57\n"
     ]
    },
    {
     "name": "stderr",
     "output_type": "stream",
     "text": [
      "\r",
      "Iteration:   0%|          | 0/2105 [00:00<?, ?it/s]"
     ]
    },
    {
     "name": "stdout",
     "output_type": "stream",
     "text": [
      "***** Running training *****\n",
      "Num examples: 67349\n",
      "Batch size:   32\n",
      "Num steps:    2104\n",
      "Epoch: 1\n"
     ]
    },
    {
     "name": "stderr",
     "output_type": "stream",
     "text": [
      "Iteration: 100%|██████████| 2105/2105 [00:20<00:00, 101.08it/s]\n",
      "04/10/2019 21:28:28 - INFO - lib.train_eval -   ***** Running evaluation *****\n",
      "04/10/2019 21:28:28 - INFO - lib.train_eval -     Num examples = 872\n",
      "04/10/2019 21:28:28 - INFO - lib.train_eval -     Batch size = 8\n",
      "Evaluating: 100%|██████████| 109/109 [00:00<00:00, 343.20it/s]\n",
      "04/10/2019 21:28:28 - INFO - lib.train_eval -   ***** Eval results *****\n",
      "04/10/2019 21:28:28 - INFO - lib.train_eval -     eval_accuracy = 0.6192660550458715\n",
      "04/10/2019 21:28:28 - INFO - lib.train_eval -     eval_loss = 0.005156075445200325\n"
     ]
    },
    {
     "name": "stdout",
     "output_type": "stream",
     "text": [
      "{'eval_loss': 0.005156075445200325, 'eval_accuracy': 0.6192660550458715}\n",
      "______Epoch_______: 58\n"
     ]
    },
    {
     "name": "stderr",
     "output_type": "stream",
     "text": [
      "\r",
      "Iteration:   0%|          | 0/2105 [00:00<?, ?it/s]"
     ]
    },
    {
     "name": "stdout",
     "output_type": "stream",
     "text": [
      "***** Running training *****\n",
      "Num examples: 67349\n",
      "Batch size:   32\n",
      "Num steps:    2104\n",
      "Epoch: 1\n"
     ]
    },
    {
     "name": "stderr",
     "output_type": "stream",
     "text": [
      "Iteration: 100%|██████████| 2105/2105 [00:20<00:00, 101.80it/s]\n",
      "04/10/2019 21:28:57 - INFO - lib.train_eval -   ***** Running evaluation *****\n",
      "04/10/2019 21:28:57 - INFO - lib.train_eval -     Num examples = 872\n",
      "04/10/2019 21:28:57 - INFO - lib.train_eval -     Batch size = 8\n",
      "Evaluating: 100%|██████████| 109/109 [00:00<00:00, 344.10it/s]\n",
      "04/10/2019 21:28:57 - INFO - lib.train_eval -   ***** Eval results *****\n",
      "04/10/2019 21:28:57 - INFO - lib.train_eval -     eval_accuracy = 0.6192660550458715\n",
      "04/10/2019 21:28:57 - INFO - lib.train_eval -     eval_loss = 0.008544157378785654\n"
     ]
    },
    {
     "name": "stdout",
     "output_type": "stream",
     "text": [
      "{'eval_loss': 0.008544157378785654, 'eval_accuracy': 0.6192660550458715}\n",
      "______Epoch_______: 59\n"
     ]
    },
    {
     "name": "stderr",
     "output_type": "stream",
     "text": [
      "\r",
      "Iteration:   0%|          | 0/2105 [00:00<?, ?it/s]"
     ]
    },
    {
     "name": "stdout",
     "output_type": "stream",
     "text": [
      "***** Running training *****\n",
      "Num examples: 67349\n",
      "Batch size:   32\n",
      "Num steps:    2104\n",
      "Epoch: 1\n"
     ]
    },
    {
     "name": "stderr",
     "output_type": "stream",
     "text": [
      "Iteration: 100%|██████████| 2105/2105 [00:20<00:00, 100.58it/s]\n",
      "04/10/2019 21:29:25 - INFO - lib.train_eval -   ***** Running evaluation *****\n",
      "04/10/2019 21:29:25 - INFO - lib.train_eval -     Num examples = 872\n",
      "04/10/2019 21:29:25 - INFO - lib.train_eval -     Batch size = 8\n",
      "Evaluating: 100%|██████████| 109/109 [00:00<00:00, 344.32it/s]\n",
      "04/10/2019 21:29:25 - INFO - lib.train_eval -   ***** Eval results *****\n",
      "04/10/2019 21:29:25 - INFO - lib.train_eval -     eval_accuracy = 0.6135321100917431\n",
      "04/10/2019 21:29:25 - INFO - lib.train_eval -     eval_loss = -0.005754406213623668\n"
     ]
    },
    {
     "name": "stdout",
     "output_type": "stream",
     "text": [
      "{'eval_loss': -0.005754406213623668, 'eval_accuracy': 0.6135321100917431}\n",
      "______Epoch_______: 60\n"
     ]
    },
    {
     "name": "stderr",
     "output_type": "stream",
     "text": [
      "\r",
      "Iteration:   0%|          | 0/2105 [00:00<?, ?it/s]"
     ]
    },
    {
     "name": "stdout",
     "output_type": "stream",
     "text": [
      "***** Running training *****\n",
      "Num examples: 67349\n",
      "Batch size:   32\n",
      "Num steps:    2104\n",
      "Epoch: 1\n"
     ]
    },
    {
     "name": "stderr",
     "output_type": "stream",
     "text": [
      "Iteration: 100%|██████████| 2105/2105 [00:20<00:00, 100.48it/s]\n",
      "04/10/2019 21:29:54 - INFO - lib.train_eval -   ***** Running evaluation *****\n",
      "04/10/2019 21:29:54 - INFO - lib.train_eval -     Num examples = 872\n",
      "04/10/2019 21:29:54 - INFO - lib.train_eval -     Batch size = 8\n",
      "Evaluating: 100%|██████████| 109/109 [00:00<00:00, 342.96it/s]\n",
      "04/10/2019 21:29:54 - INFO - lib.train_eval -   ***** Eval results *****\n",
      "04/10/2019 21:29:54 - INFO - lib.train_eval -     eval_accuracy = 0.6181192660550459\n",
      "04/10/2019 21:29:54 - INFO - lib.train_eval -     eval_loss = 0.026595231794982875\n"
     ]
    },
    {
     "name": "stdout",
     "output_type": "stream",
     "text": [
      "{'eval_loss': 0.026595231794982875, 'eval_accuracy': 0.6181192660550459}\n"
     ]
    }
   ],
   "source": [
    "for i in range(40, 60):\n",
    "    print('______Epoch_______: {}'.format(i + 1))\n",
    "    result = train_blend_cnn(model, train_examples, label_list, params, tokenizer)\n",
    "    result = evaluate(model, eval_examples, label_list, params, tokenizer)\n",
    "    print(result)\n",
    "    "
   ]
  },
  {
   "cell_type": "code",
   "execution_count": null,
   "metadata": {},
   "outputs": [],
   "source": []
  }
 ],
 "metadata": {
  "kernelspec": {
   "display_name": "Python 3",
   "language": "python",
   "name": "python3"
  },
  "language_info": {
   "codemirror_mode": {
    "name": "ipython",
    "version": 3
   },
   "file_extension": ".py",
   "mimetype": "text/x-python",
   "name": "python",
   "nbconvert_exporter": "python",
   "pygments_lexer": "ipython3",
   "version": "3.6.7"
  }
 },
 "nbformat": 4,
 "nbformat_minor": 2
}
